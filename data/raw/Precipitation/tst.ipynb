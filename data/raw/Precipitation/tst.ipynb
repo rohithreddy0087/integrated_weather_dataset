{
 "cells": [
  {
   "cell_type": "code",
   "execution_count": 4,
   "metadata": {},
   "outputs": [
    {
     "name": "stdout",
     "output_type": "stream",
     "text": [
      "Keys: <KeysViewHDF5 ['lat', 'lat_bnds', 'latv', 'lon', 'lon_bnds', 'lonv', 'nv', 'precipitation', 'precipitationQualityIndex', 'probabilityLiquidPrecipitation', 'randomError', 'time', 'time_bnds']>\n",
      "\n",
      "Dataset Name: lat\n",
      "Data: <HDF5 dataset \"lat\": shape (1800,), type \"<f4\">\n",
      "\n",
      "Dataset Name: lat_bnds\n",
      "Data: <HDF5 dataset \"lat_bnds\": shape (1800, 2), type \"<f4\">\n",
      "\n",
      "Dataset Name: latv\n",
      "Data: <HDF5 dataset \"latv\": shape (2,), type \"<i4\">\n",
      "\n",
      "Dataset Name: lon\n",
      "Data: <HDF5 dataset \"lon\": shape (3600,), type \"<f4\">\n",
      "\n",
      "Dataset Name: lon_bnds\n",
      "Data: <HDF5 dataset \"lon_bnds\": shape (3600, 2), type \"<f4\">\n",
      "\n",
      "Dataset Name: lonv\n",
      "Data: <HDF5 dataset \"lonv\": shape (2,), type \"<i4\">\n",
      "\n",
      "Dataset Name: nv\n",
      "Data: <HDF5 dataset \"nv\": shape (2,), type \"<i4\">\n",
      "\n",
      "Dataset Name: precipitation\n",
      "Data: <HDF5 dataset \"precipitation\": shape (1, 3600, 1800), type \"<f4\">\n",
      "\n",
      "Dataset Name: precipitationQualityIndex\n",
      "Data: <HDF5 dataset \"precipitationQualityIndex\": shape (1, 3600, 1800), type \"<f4\">\n",
      "\n",
      "Dataset Name: probabilityLiquidPrecipitation\n",
      "Data: <HDF5 dataset \"probabilityLiquidPrecipitation\": shape (1, 3600, 1800), type \"<i2\">\n",
      "\n",
      "Dataset Name: randomError\n",
      "Data: <HDF5 dataset \"randomError\": shape (1, 3600, 1800), type \"<f4\">\n",
      "\n",
      "Dataset Name: time\n",
      "Data: <HDF5 dataset \"time\": shape (1,), type \"<i4\">\n",
      "\n",
      "Dataset Name: time_bnds\n",
      "Data: <HDF5 dataset \"time_bnds\": shape (1, 2), type \"<i4\">\n"
     ]
    }
   ],
   "source": [
    "import h5py\n",
    "\n",
    "# Open the HDF5 file in read mode\n",
    "hdf = h5py.File('output.nc', 'r')\n",
    "# List all groups\n",
    "print(\"Keys: %s\" % hdf.keys())\n",
    "# Get a specific dataset\n",
    "name = \"Grid\"\n",
    "grid_group = hdf\n",
    "# grid_group = hdf['Grid']\n",
    "\n",
    "for dataset_name in grid_group.keys():\n",
    "    # Access the dataset\n",
    "    dataset = grid_group[dataset_name]\n",
    "    \n",
    "    # Print the dataset name and its contents\n",
    "    print(f\"\\nDataset Name: {dataset_name}\")\n",
    "    \n",
    "    # For large datasets, you might not want to print everything, so limiting it\n",
    "    # Here we are printing a preview of the first 10 values\n",
    "    print(f\"Data: {dataset}\")"
   ]
  },
  {
   "cell_type": "code",
   "execution_count": null,
   "metadata": {},
   "outputs": [],
   "source": []
  }
 ],
 "metadata": {
  "kernelspec": {
   "display_name": "myenv",
   "language": "python",
   "name": "python3"
  },
  "language_info": {
   "codemirror_mode": {
    "name": "ipython",
    "version": 3
   },
   "file_extension": ".py",
   "mimetype": "text/x-python",
   "name": "python",
   "nbconvert_exporter": "python",
   "pygments_lexer": "ipython3",
   "version": "3.8.16"
  }
 },
 "nbformat": 4,
 "nbformat_minor": 2
}
