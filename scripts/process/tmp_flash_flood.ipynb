{
 "cells": [
  {
   "cell_type": "code",
   "execution_count": 1,
   "id": "51e700d7-dce1-46db-b8b8-cb1cdea338ea",
   "metadata": {},
   "outputs": [],
   "source": [
    "import json\n",
    "import os,sys\n",
    "import pandas as pd\n",
    "import numpy as np\n",
    "import xarray\n",
    "from datetime import datetime\n",
    "from shapely.geometry import Point, Polygon\n",
    "from ast import literal_eval"
   ]
  },
  {
   "cell_type": "code",
   "execution_count": 2,
   "id": "a982f7e2-87e5-4099-906b-a0c472193d39",
   "metadata": {},
   "outputs": [],
   "source": [
    "pd.set_option('display.max_columns', None)  \n",
    "pd.set_option('display.max_colwidth', None)\n"
   ]
  },
  {
   "cell_type": "code",
   "execution_count": 3,
   "id": "e0d2ae96-f993-444b-9cad-fe6703462cbb",
   "metadata": {},
   "outputs": [
    {
     "name": "stdout",
     "output_type": "stream",
     "text": [
      "                                                                                                                                                                                                                                                                                                                                                                                                                                  FFWs\n",
      "0                                                                                                                                                                                                                           {'begin': '2005-02-21T21:50:00Z', 'end': '2005-02-22T00:45:00Z', 'vertices': [{'lat': 35.66, 'lon': 120.11}, {'lat': 35.69, 'lon': 119.78}, {'lat': 36.75, 'lon': 120.19}, {'lat': 36.66, 'lon': 120.66}]}\n",
      "1                                                                                                                                                                                                                           {'begin': '2005-05-06T01:43:00Z', 'end': '2005-05-06T02:45:00Z', 'vertices': [{'lat': 36.01, 'lon': 120.48}, {'lat': 36.01, 'lon': 120.25}, {'lat': 36.19, 'lon': 120.25}, {'lat': 36.19, 'lon': 120.48}]}\n",
      "2                                                                                                                                                                                                                               {'begin': '2005-05-06T02:45:00Z', 'end': '2005-05-06T04:45:00Z', 'vertices': [{'lat': 36.0, 'lon': 120.42}, {'lat': 36.0, 'lon': 120.2}, {'lat': 36.17, 'lon': 120.21}, {'lat': 36.17, 'lon': 120.4}]}\n",
      "3                                                                                                                                                                                                                            {'begin': '2005-07-23T22:37:00Z', 'end': '2005-07-23T23:30:00Z', 'vertices': [{'lat': 35.73, 'lon': 118.5}, {'lat': 35.71, 'lon': 118.35}, {'lat': 35.95, 'lon': 118.23}, {'lat': 35.96, 'lon': 118.41}]}\n",
      "4                                                                                                                                                                                                                           {'begin': '2005-07-23T23:47:00Z', 'end': '2005-07-24T00:45:00Z', 'vertices': [{'lat': 35.55, 'lon': 117.79}, {'lat': 34.93, 'lon': 118.73}, {'lat': 34.84, 'lon': 118.46}, {'lat': 35.41, 'lon': 117.63}]}\n",
      "...                                                                                                                                                                                                                                                                                                                                                                                                                                ...\n",
      "100626                                                            {'begin': '2023-09-03T00:55:00Z', 'end': '2023-09-03T03:30:00Z', 'vertices': [{'lat': 34.7, 'lon': 116.28}, {'lat': 34.89, 'lon': 116.33}, {'lat': 35.33, 'lon': 116.09}, {'lat': 35.18, 'lon': 115.71}, {'lat': 34.88, 'lon': 115.94}, {'lat': 34.63, 'lon': 115.73}, {'lat': 34.48, 'lon': 115.67}, {'lat': 34.45, 'lon': 115.78}, {'lat': 34.51, 'lon': 116.08}]}\n",
      "100627                                                                                                                         {'begin': '2023-09-12T22:29:00Z', 'end': '2023-09-13T00:30:00Z', 'vertices': [{'lat': 35.61, 'lon': 114.95}, {'lat': 35.45, 'lon': 114.93}, {'lat': 35.33, 'lon': 115.34}, {'lat': 35.35, 'lon': 115.44}, {'lat': 35.46, 'lon': 115.44}, {'lat': 35.53, 'lon': 115.42}, {'lat': 35.57, 'lon': 115.39}]}\n",
      "100628                                                                                                                                                                                       {'begin': '2023-09-13T00:07:00Z', 'end': '2023-09-13T03:30:00Z', 'vertices': [{'lat': 35.46, 'lon': 114.89}, {'lat': 35.28, 'lon': 114.85}, {'lat': 35.01, 'lon': 114.76}, {'lat': 35.04, 'lon': 114.98}, {'lat': 35.38, 'lon': 115.16}]}\n",
      "100629                                                                                                                                                                                                                        {'begin': '2023-09-13T03:23:00Z', 'end': '2023-09-13T05:30:00Z', 'vertices': [{'lat': 35.09, 'lon': 114.86}, {'lat': 35.08, 'lon': 114.8}, {'lat': 34.98, 'lon': 114.8}, {'lat': 34.99, 'lon': 114.87}]}\n",
      "100630  {'begin': '2023-12-22T11:05:00Z', 'end': '2023-12-22T14:15:00Z', 'vertices': [{'lat': 34.3, 'lon': 116.46}, {'lat': 34.29, 'lon': 116.4}, {'lat': 34.2, 'lon': 116.36}, {'lat': 34.08, 'lon': 116.34}, {'lat': 34.08, 'lon': 116.44}, {'lat': 34.03, 'lon': 116.47}, {'lat': 34.03, 'lon': 116.62}, {'lat': 34.1, 'lon': 116.6}, {'lat': 34.14, 'lon': 116.47}, {'lat': 34.21, 'lon': 116.44}, {'lat': 34.26, 'lon': 116.44}]}\n",
      "\n",
      "[100631 rows x 1 columns]\n"
     ]
    }
   ],
   "source": [
    "\n",
    "ff = pd.read_json('/root/data/rrr/integrated_weather_dataset/data/raw/Flash_Flood/ffw_cp.json')\n",
    "print(ff)"
   ]
  },
  {
   "cell_type": "code",
   "execution_count": 4,
   "id": "1ff331dc-43f7-43cc-afa4-bac54967f3d5",
   "metadata": {},
   "outputs": [
    {
     "data": {
      "text/plain": [
       "FFWs    object\n",
       "dtype: object"
      ]
     },
     "execution_count": 4,
     "metadata": {},
     "output_type": "execute_result"
    }
   ],
   "source": [
    "ff.dtypes"
   ]
  },
  {
   "cell_type": "code",
   "execution_count": 5,
   "id": "15ccb205-686d-499d-a4e4-27cb5f44cd40",
   "metadata": {
    "scrolled": true
   },
   "outputs": [
    {
     "name": "stdout",
     "output_type": "stream",
     "text": [
      "FFWs    {'begin': '2005-02-21T21:50:00Z', 'end': '2005-02-22T00:45:00Z', 'vertices': [{'lat': 35.66, 'lon': 120.11}, {'lat': 35.69, 'lon': 119.78}, {'lat': 36.75, 'lon': 120.19}, {'lat': 36.66, 'lon': 120.66}]}\n",
      "Name: 0, dtype: object\n"
     ]
    }
   ],
   "source": [
    "print(ff.iloc[0])"
   ]
  },
  {
   "cell_type": "code",
   "execution_count": 6,
   "id": "e0599b3b-4ba4-41b7-b72e-ec0908a03ed9",
   "metadata": {},
   "outputs": [],
   "source": [
    "MIN_LON = 120\n",
    "MAX_LON = 115\n",
    "MIN_LAT = 31.5\n",
    "MAX_LAT = 38\n",
    "start_date = '2005-01-01T00:00:00.000000000'\n",
    "end_date = '2005-01-31T00:00:00.000000000'"
   ]
  },
  {
   "cell_type": "code",
   "execution_count": 7,
   "id": "b4063d28-ebad-4557-84fe-8e3f09a85a43",
   "metadata": {},
   "outputs": [],
   "source": [
    "timestamps = pd.date_range(start=start_date, end=end_date, freq='5min')\n",
    "lats = np.arange(MIN_LAT, MAX_LAT, 0.5)\n",
    "lons = np.arange(MAX_LON, MIN_LON, 0.625)\n",
    "\n",
    "\n",
    "ffw_periods = []\n",
    "ffw_polygons = []\n",
    "for ffw in ff['FFWs']:\n",
    "    start_time = pd.to_datetime(ffw['begin'], utc=False)\n",
    "    end_time = pd.to_datetime(ffw['end'], utc=False)\n",
    "    vertices = [(v['lon'], v['lat']) for v in ffw['vertices']]\n",
    "    ffw_periods.append((start_time, end_time))\n",
    "    ffw_polygons.append(Polygon(vertices))"
   ]
  },
  {
   "cell_type": "code",
   "execution_count": 8,
   "id": "442074d8-64d1-4065-a515-6cb7c2dfbb22",
   "metadata": {},
   "outputs": [],
   "source": [
    "ffw_periods = [(ts1.tz_localize(None), ts2.tz_localize(None)) for ts1, ts2 in ffw_periods]\n"
   ]
  },
  {
   "cell_type": "code",
   "execution_count": null,
   "id": "2e4ebe12-34fe-47a9-a6fc-d554ed7e8cf5",
   "metadata": {},
   "outputs": [],
   "source": [
    "grid_points = []\n",
    "for t in timestamps:\n",
    "    is_ffw_time = any(start <= t <= end for start, end in ffw_periods)\n",
    "    \n",
    "    if is_ffw_time: \n",
    "        for lat in lats:\n",
    "            for lon in lons:\n",
    "                point = Point(lon, lat)\n",
    "                in_polygon = any(poly.contains(point) for poly in ffw_polygons)\n",
    "                \n",
    "                if in_polygon: \n",
    "                    grid_points.append({\n",
    "                        'timestamp': t,\n",
    "                        'latitude': lat,\n",
    "                        'longitude': lon,\n",
    "                        'label': 1\n",
    "                    })\n"
   ]
  },
  {
   "cell_type": "code",
   "execution_count": null,
   "id": "8ba89bcb-69a3-4ecb-a94f-b21c42f6dbec",
   "metadata": {},
   "outputs": [],
   "source": [
    "grid_points"
   ]
  },
  {
   "cell_type": "code",
   "execution_count": null,
   "id": "49e92701-a9ce-480d-92e4-b305d51d276e",
   "metadata": {},
   "outputs": [],
   "source": [
    "result_df = pd.DataFrame(grid_points)\n"
   ]
  },
  {
   "cell_type": "code",
   "execution_count": null,
   "id": "96d17c74-c068-46bc-bd08-328063bfcfb8",
   "metadata": {},
   "outputs": [],
   "source": [
    "result_df"
   ]
  },
  {
   "cell_type": "code",
   "execution_count": null,
   "id": "f64483e2-8784-49e0-85a3-e6368d3d6564",
   "metadata": {},
   "outputs": [],
   "source": []
  }
 ],
 "metadata": {
  "kernelspec": {
   "display_name": "Python 3 (ipykernel)",
   "language": "python",
   "name": "python3"
  },
  "language_info": {
   "codemirror_mode": {
    "name": "ipython",
    "version": 3
   },
   "file_extension": ".py",
   "mimetype": "text/x-python",
   "name": "python",
   "nbconvert_exporter": "python",
   "pygments_lexer": "ipython3",
   "version": "3.13.1"
  }
 },
 "nbformat": 4,
 "nbformat_minor": 5
}
