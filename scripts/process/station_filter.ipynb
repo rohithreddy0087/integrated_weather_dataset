{
 "cells": [
  {
   "cell_type": "code",
   "execution_count": 4,
   "id": "aac94dc8-e52b-41e9-973a-2ab795066d09",
   "metadata": {},
   "outputs": [
    {
     "name": "stdout",
     "output_type": "stream",
     "text": [
      "Filtered Stations:\n",
      "['7odm', 'acsb', 'agmt', 'alam', 'alpp', 'ana1', 'aoa1', 'ar27', 'ar53', 'argu', 'arm1', 'arm2', 'ashm', 'avry', 'azry', 'azu1', 'bald', 'bar1', 'batm', 'bbdm', 'bbry', 'bcwr', 'beat', 'bemt', 'bepk', 'bfld', 'bfsh', 'bgis', 'bill', 'bkap', 'bkms', 'bkr1', 'bkr2', 'blsa', 'bmhl', 'bmry', 'bomg', 'bran', 'brpk', 'bsry', 'btdm', 'bull', 'bust', 'bvpp', 'ca99', 'cact', 'casa', 'case', 'cat1', 'cat2', 'cat3', 'cbhs', 'cccc', 'ccco', 'cccs', 'ccst', 'cdmt', 'cgdm', 'chil', 'chlo', 'chms', 'cic1', 'cice', 'cirx', 'cit1', 'cjmg', 'cjms', 'cjvg', 'clar', 'clbd', 'cmp9', 'cnpp', 'coag', 'cokg', 'copr', 'corx', 'coso', 'cotd', 'cpbn', 'cram', 'crat', 'crcn', 'crfp', 'crgg', 'crhs', 'crrs', 'cru1', 'csci', 'csdh', 'csn1', 'csst', 'ctdm', 'ctms', 'cuhs', 'cvhs', 'dam1', 'dam2', 'dam3', 'ddmn', 'desc', 'dhlg', 'dlno', 'dluz', 'dond', 'dono', 'drew', 'ds13', 'dshs', 'dsme', 'dssc', 'dvle', 'dvls', 'dvlw', 'dvne', 'dvnw', 'dvpb', 'dvse', 'dvsw', 'dyer', 'dyh2', 'dyhs', 'ecco', 'ecfs', 'edpp', 'elly', 'elsc', 'elsg', 'eltn', 'elts', 'errg', 'ese2', 'esre', 'esrw', 'ewpp', 'fhog', 'fmtp', 'fmvt', 'foxg', 'fshb', 'fvpk', 'fxhs', 'fzhs', 'gdec', 'ghrp', 'glrs', 'gmag', 'gmrc', 'gol2', 'gold', 'gvrs', 'har7', 'hbco', 'hcmn', 'helb', 'hell', 'help', 'hivi', 'hmtg', 'hnps', 'hol3', 'holc', 'holp', 'hotk', 'hvys', 'i40a', 'ibex', 'idog', 'idqg', 'iid2', 'imps', 'islk', 'ivco', 'jas1', 'jnhg', 'jnpr', 'john', 'jplm', 'kbrc', 'kdl1', 'knol', 'krac', 'kyvw', 'lapc', 'lasc', 'lbc1', 'lbc2', 'lbch', 'lbrf', 'ldes', 'ldsw', 'lebc', 'leep', 'lema', 'lfrs', 'lgwd', 'lice', 'linc', 'linj', 'litt', 'ljrn', 'lkhg', 'll01', 'llas', 'lmhg', 'lmsg', 'lnco', 'lnmt', 'long', 'lors', 'lpcg', 'lphs', 'lrrg', 'lvms', 'lvwd', 'mat2', 'math', 'merc', 'mhms', 'mins', 'mjpk', 'mlfp', 'monp', 'mpwd', 'mrdm', 'mrry', 'mscg', 'msob', 'mta1', 'mtgg', 'musb', 'musd', 'mvfd', 'mwtp', 'mxs1', 'nbps', 'neva', 'nhrg', 'noco', 'nope', 'nopk', 'nsss', 'oaes', 'oat2', 'ocsd', 'oeoc', 'oghs', 'opbl', 'opcl', 'opcp', 'opcx', 'oprd', 'ormt', 'ovls', 'oxyc', 'ozst', 'p056', 'p066', 'p091', 'p092', 'p093', 'p094', 'p245', 'p308', 'p311', 'p462', 'p463', 'p464', 'p465', 'p466', 'p467', 'p468', 'p469', 'p470', 'p471', 'p472', 'p473', 'p474', 'p475', 'p476', 'p477', 'p478', 'p479', 'p480', 'p481', 'p482', 'p483', 'p484', 'p485', 'p486', 'p487', 'p488', 'p489', 'p490', 'p491', 'p492', 'p493', 'p494', 'p495', 'p496', 'p497', 'p498', 'p499', 'p500', 'p501', 'p502', 'p503', 'p504', 'p505', 'p506', 'p507', 'p508', 'p509', 'p510', 'p511', 'p512', 'p517', 'p519', 'p520', 'p521', 'p522', 'p537', 'p543', 'p544', 'p545', 'p547', 'p548', 'p549', 'p550', 'p551', 'p553', 'p554', 'p555', 'p556', 'p557', 'p558', 'p559', 'p560', 'p561', 'p562', 'p563', 'p564', 'p565', 'p566', 'p567', 'p568', 'p569', 'p570', 'p571', 'p572', 'p573', 'p574', 'p575', 'p577', 'p579', 'p580', 'p581', 'p582', 'p583', 'p584', 'p585', 'p586', 'p587', 'p588', 'p589', 'p590', 'p591', 'p592', 'p593', 'p594', 'p595', 'p596', 'p597', 'p598', 'p599', 'p600', 'p601', 'p603', 'p604', 'p605', 'p606', 'p607', 'p608', 'p609', 'p610', 'p611', 'p612', 'p613', 'p614', 'p615', 'p616', 'p617', 'p618', 'p619', 'p620', 'p621', 'p622', 'p626', 'p627', 'p628', 'p629', 'p630', 'p631', 'p632', 'p633', 'p634', 'p635', 'p636', 'p637', 'p638', 'p639', 'p640', 'p641', 'p642', 'p643', 'p644', 'p645', 'p646', 'p647', 'p648', 'p649', 'p650', 'p651', 'p652', 'p653', 'p723', 'p724', 'p725', 'p726', 'p727', 'p729', 'p740', 'p741', 'p742', 'p744', 'p795', 'p797', 'p799', 'p800', 'p808', 'p809', 'p810', 'p811', 'p812', 'palx', 'pbpp', 'perl', 'phin', 'phjx', 'phlb', 'pin1', 'pin2', 'pjzx', 'pkrd', 'plo3', 'plo5', 'plo6', 'plpx', 'pltx', 'pmhs', 'pmob', 'pmtn', 'pobg', 'poin', 'potr', 'ppbf', 'psap', 'psdm', 'ptax', 'ptex', 'pve3', 'pvep', 'pvhs', 'pvrs', 'qhtp', 'raap', 'ragg', 'ramt', 'rapt', 'rbru', 'rca2', 'rcsc', 'rdmt', 'rdom', 'rela', 'rep2', 'rep3', 'rep4', 'repo', 'rhcg', 'rhcl', 'rkmg', 'rmvj', 'roch', 'rock', 'roge', 'rstp', 'rsvy', 'rths', 'rump', 'ryan', 'sacy', 'sawc', 'sbcc', 'scia', 'scip', 'scms', 'sdhl', 'sfdm', 'sgdm', 'sghs', 'sgps', 'shos', 'shrc', 'sibe', 'silk', 'simm', 'sio3', 'sio5', 'skul', 'skyb', 'slhg', 'slms', 'smyc', 'snhs', 'sni1', 'snog', 'somt', 'song', 'spk1', 'spms', 'spw2', 'stri', 'tabl', 'tabv', 'taft', 'tate', 'teha', 'thcp', 'thm2', 'thmg', 'thms', 'tilc', 'tiva', 'tmap', 'torp', 'tost', 'trak', 'troy', 'twms', 'uclp', 'ucsb', 'usc1', 'usgc', 'vcst', 'vdcy', 'vimt', 'vine', 'vinz', 'vnco', 'vncx', 'vnps', 'vons', 'vtis', 'vtor', 'vyas', 'wasg', 'watc', 'wchs', 'wgpp', 'whc1', 'whyt', 'widc', 'wkpk', 'wlsn', 'wmap', 'wmdg', 'wnra', 'womt', 'wrhs', 'wwfg', 'wwmt', 'yuhg']\n",
      "Number of stations\n",
      "582\n"
     ]
    },
    {
     "name": "stderr",
     "output_type": "stream",
     "text": [
      "/tmp/ipykernel_22354/1666868150.py:11: FutureWarning: The 'delim_whitespace' keyword in pd.read_csv is deprecated and will be removed in a future version. Use ``sep='\\s+'`` instead\n",
      "  sites_df = pd.read_csv(file_path, delim_whitespace=True, names=columns, skiprows=1)\n"
     ]
    }
   ],
   "source": [
    "import pandas as pd\n",
    "\n",
    "file_path = '/root/data/rrr/integrated_weather_dataset/config/stations.txt'\n",
    "\n",
    "MIN_LON = -120+360\n",
    "MAX_LON = -115+360\n",
    "MIN_LAT = 31.5\n",
    "MAX_LAT = 38\n",
    "\n",
    "columns = ['Site', 'Longitude', 'Latitude', 'Height', 'Nvel', 'Evel', 'Uvel', 'Nerr', 'Eerr', 'Uerr']\n",
    "sites_df = pd.read_csv(file_path, delim_whitespace=True, names=columns, skiprows=1)\n",
    "\n",
    "filtered_sites = sites_df[\n",
    "    (sites_df['Longitude'] >= MIN_LON) & (sites_df['Longitude'] <= MAX_LON) &\n",
    "    (sites_df['Latitude'] >= MIN_LAT) & (sites_df['Latitude'] <= MAX_LAT)\n",
    "]\n",
    "\n",
    "print(\"Filtered Stations:\")\n",
    "print(filtered_sites['Site'].tolist())\n",
    "\n",
    "print('Number of stations')\n",
    "print(len(filtered_sites['Site']))\n"
   ]
  },
  {
   "cell_type": "code",
   "execution_count": 6,
   "id": "6d5e334c-0c24-4ff8-87c7-2ac04f8e2943",
   "metadata": {},
   "outputs": [],
   "source": [
    "df = pd.read_csv('/root/data/rrr/integrated_weather_dataset/data/processed/Troposphere/2015.csv')\n",
    "df2 = pd.read_csv('/root/data/rrr/integrated_weather_dataset/data/processed/Troposphere/2016.csv')"
   ]
  },
  {
   "cell_type": "code",
   "execution_count": 7,
   "id": "4871e070-d512-4cc4-ba17-bacab6325aba",
   "metadata": {},
   "outputs": [],
   "source": [
    "list1 = df['Site'].tolist()\n",
    "list2 = df2['Site'].tolist()"
   ]
  },
  {
   "cell_type": "code",
   "execution_count": 8,
   "id": "c02a8443-eba6-4a57-9587-a76b2a57ab76",
   "metadata": {},
   "outputs": [],
   "source": [
    "station_list = ['7odm', 'acsb', 'agmt', 'alam', 'alpp', 'ana1', 'aoa1', 'ar27', 'ar53', 'argu', 'arm1', 'arm2', 'ashm', 'avry', 'azry', 'azu1', 'bald', 'bar1', 'batm', 'bbdm', 'bbry', 'bcwr', 'beat', 'bemt', 'bepk', 'bfld', 'bfsh', 'bgis', 'bill', 'bkap', 'bkms', 'bkr1', 'bkr2', 'blsa', 'bmhl', 'bmry', 'bomg', 'bran', 'brpk', 'bsry', 'btdm', 'bull', 'bust', 'bvpp', 'ca99', 'cact', 'casa', 'case', 'cat1', 'cat2', 'cat3', 'cbhs', 'cccc', 'ccco', 'cccs', 'ccst', 'cdmt', 'cgdm', 'chil', 'chlo', 'chms', 'cic1', 'cice', 'cirx', 'cit1', 'cjmg', 'cjms', 'cjvg', 'clar', 'clbd', 'cmp9', 'cnpp', 'coag', 'cokg', 'copr', 'corx', 'coso', 'cotd', 'cpbn', 'cram', 'crat', 'crcn', 'crfp', 'crgg', 'crhs', 'crrs', 'cru1', 'csci', 'csdh', 'csn1', 'csst', 'ctdm', 'ctms', 'cuhs', 'cvhs', 'dam1', 'dam2', 'dam3', 'ddmn', 'desc', 'dhlg', 'dlno', 'dluz', 'dond', 'dono', 'drew', 'ds13', 'dshs', 'dsme', 'dssc', 'dvle', 'dvls', 'dvlw', 'dvne', 'dvnw', 'dvpb', 'dvse', 'dvsw', 'dyer', 'dyh2', 'dyhs', 'ecco', 'ecfs', 'edpp', 'elly', 'elsc', 'elsg', 'eltn', 'elts', 'errg', 'ese2', 'esre', 'esrw', 'ewpp', 'fhog', 'fmtp', 'fmvt', 'foxg', 'fshb', 'fvpk', 'fxhs', 'fzhs', 'gdec', 'ghrp', 'glrs', 'gmag', 'gmrc', 'gol2', 'gold', 'gvrs', 'har7', 'hbco', 'hcmn', 'helb', 'hell', 'help', 'hivi', 'hmtg', 'hnps', 'hol3', 'holc', 'holp', 'hotk', 'hvys', 'i40a', 'ibex', 'idog', 'idqg', 'iid2', 'imps', 'islk', 'ivco', 'jas1', 'jnhg', 'jnpr', 'john', 'jplm', 'kbrc', 'kdl1', 'knol', 'krac', 'kyvw', 'lapc', 'lasc', 'lbc1', 'lbc2', 'lbch', 'lbrf', 'ldes', 'ldsw', 'lebc', 'leep', 'lema', 'lfrs', 'lgwd', 'lice', 'linc', 'linj', 'litt', 'ljrn', 'lkhg', 'll01', 'llas', 'lmhg', 'lmsg', 'lnco', 'lnmt', 'long', 'lors', 'lpcg', 'lphs', 'lrrg', 'lvms', 'lvwd', 'mat2', 'math', 'merc', 'mhms', 'mins', 'mjpk', 'mlfp', 'monp', 'mpwd', 'mrdm', 'mrry', 'mscg', 'msob', 'mta1', 'mtgg', 'musb', 'musd', 'mvfd', 'mwtp', 'mxs1', 'nbps', 'neva', 'nhrg', 'noco', 'nope', 'nopk', 'nsss', 'oaes', 'oat2', 'ocsd', 'oeoc', 'oghs', 'opbl', 'opcl', 'opcp', 'opcx', 'oprd', 'ormt', 'ovls', 'oxyc', 'ozst', 'p056', 'p066', 'p091', 'p092', 'p093', 'p094', 'p245', 'p308', 'p311', 'p462', 'p463', 'p464', 'p465', 'p466', 'p467', 'p468', 'p469', 'p470', 'p471', 'p472', 'p473', 'p474', 'p475', 'p476', 'p477', 'p478', 'p479', 'p480', 'p481', 'p482', 'p483', 'p484', 'p485', 'p486', 'p487', 'p488', 'p489', 'p490', 'p491', 'p492', 'p493', 'p494', 'p495', 'p496', 'p497', 'p498', 'p499', 'p500', 'p501', 'p502', 'p503', 'p504', 'p505', 'p506', 'p507', 'p508', 'p509', 'p510', 'p511', 'p512', 'p517', 'p519', 'p520', 'p521', 'p522', 'p537', 'p543', 'p544', 'p545', 'p547', 'p548', 'p549', 'p550', 'p551', 'p553', 'p554', 'p555', 'p556', 'p557', 'p558', 'p559', 'p560', 'p561', 'p562', 'p563', 'p564', 'p565', 'p566', 'p567', 'p568', 'p569', 'p570', 'p571', 'p572', 'p573', 'p574', 'p575', 'p577', 'p579', 'p580', 'p581', 'p582', 'p583', 'p584', 'p585', 'p586', 'p587', 'p588', 'p589', 'p590', 'p591', 'p592', 'p593', 'p594', 'p595', 'p596', 'p597', 'p598', 'p599', 'p600', 'p601', 'p603', 'p604', 'p605', 'p606', 'p607', 'p608', 'p609', 'p610', 'p611', 'p612', 'p613', 'p614', 'p615', 'p616', 'p617', 'p618', 'p619', 'p620', 'p621', 'p622', 'p626', 'p627', 'p628', 'p629', 'p630', 'p631', 'p632', 'p633', 'p634', 'p635', 'p636', 'p637', 'p638', 'p639', 'p640', 'p641', 'p642', 'p643', 'p644', 'p645', 'p646', 'p647', 'p648', 'p649', 'p650', 'p651', 'p652', 'p653', 'p723', 'p724', 'p725', 'p726', 'p727', 'p729', 'p740', 'p741', 'p742', 'p744', 'p795', 'p797', 'p799', 'p800', 'p808', 'p809', 'p810', 'p811', 'p812', 'palx', 'pbpp', 'perl', 'phin', 'phjx', 'phlb', 'pin1', 'pin2', 'pjzx', 'pkrd', 'plo3', 'plo5', 'plo6', 'plpx', 'pltx', 'pmhs', 'pmob', 'pmtn', 'pobg', 'poin', 'potr', 'ppbf', 'psap', 'psdm', 'ptax', 'ptex', 'pve3', 'pvep', 'pvhs', 'pvrs', 'qhtp', 'raap', 'ragg', 'ramt', 'rapt', 'rbru', 'rca2', 'rcsc', 'rdmt', 'rdom', 'rela', 'rep2', 'rep3', 'rep4', 'repo', 'rhcg', 'rhcl', 'rkmg', 'rmvj', 'roch', 'rock', 'roge', 'rstp', 'rsvy', 'rths', 'rump', 'ryan', 'sacy', 'sawc', 'sbcc', 'scia', 'scip', 'scms', 'sdhl', 'sfdm', 'sgdm', 'sghs', 'sgps', 'shos', 'shrc', 'sibe', 'silk', 'simm', 'sio3', 'sio5', 'skul', 'skyb', 'slhg', 'slms', 'smyc', 'snhs', 'sni1', 'snog', 'somt', 'song', 'spk1', 'spms', 'spw2', 'stri', 'tabl', 'tabv', 'taft', 'tate', 'teha', 'thcp', 'thm2', 'thmg', 'thms', 'tilc', 'tiva', 'tmap', 'torp', 'tost', 'trak', 'troy', 'twms', 'uclp', 'ucsb', 'usc1', 'usgc', 'vcst', 'vdcy', 'vimt', 'vine', 'vinz', 'vnco', 'vncx', 'vnps', 'vons', 'vtis', 'vtor', 'vyas', 'wasg', 'watc', 'wchs', 'wgpp', 'whc1', 'whyt', 'widc', 'wkpk', 'wlsn', 'wmap', 'wmdg', 'wnra', 'womt', 'wrhs', 'wwfg', 'wwmt', 'yuhg']\n",
    "station_list = [word.upper() for word in station_list]\n"
   ]
  },
  {
   "cell_type": "code",
   "execution_count": 9,
   "id": "2a056cde-bf29-4466-ac92-06350f51ca37",
   "metadata": {},
   "outputs": [],
   "source": [
    "list2 = set(list2)\n",
    "list1 = set(list1)\n"
   ]
  },
  {
   "cell_type": "code",
   "execution_count": 10,
   "id": "90b2705e-0542-40f8-b0f0-e6cd45cded24",
   "metadata": {},
   "outputs": [
    {
     "name": "stdout",
     "output_type": "stream",
     "text": [
      "Common stations: {'P563', 'WASG', 'P613', 'P549', 'P465', 'P094', 'WGPP', 'BFSH', 'BOMG', 'P463', 'P491', 'AGMT', 'P475', 'P519', 'P637', 'PVE3', 'HIVI', 'P505', 'IDQG', 'P488', 'P642', 'P245', 'P482', 'ELTS', 'P618', 'WHYT', 'CLBD', 'CCCS', 'LORS', 'BMHL', 'P558', 'P643', 'P495', 'HMTG', 'VNCO', 'TEHA', 'MERC', 'CSST', 'SBCC', 'SGDM', 'CTMS', 'FZHS', 'P601', 'ARM2', 'CTDM', 'PLTX', 'PSAP', 'P740', 'SHOS', 'TWMS', 'ASHM', 'P628', 'P797', 'P620', 'P550', 'NOCO', 'WLSN', 'P521', 'P092', 'WNRA', 'MTGG', 'FMTP', 'P583', 'PLO5', 'SOMT', 'LVMS', 'LEEP', 'CASE', 'YUHG', '7ODM', 'BCWR', 'P585', 'LFRS', 'P635', 'LNMT', 'MWTP', 'P646', 'FSHB', 'P557', 'OPCX', 'GOL2', 'VINZ', 'PTEX', 'ELLY', 'P727', 'CHIL', 'THMG', 'P640', 'P577', 'MHMS', 'P311', 'CVHS', 'PKRD', 'GMRC', 'HVYS', 'WRHS', 'SNOG', 'ROCK', 'OPRD', 'OCSD', 'P645', 'P608', 'DLUZ', 'P725', 'P584', 'BTDM', 'PSDM', 'COTD', 'P573', 'LMHG', 'WOMT', 'IID2', 'LJRN', 'WKPK', 'OPCP', 'LL01', 'TOST', 'WWFG', 'EDPP', 'LDSW', 'P597', 'P619', 'WHC1', 'AZU1', 'WMAP', 'CCST', 'P517', 'COAG', 'SNHS', 'P639', 'SONG', 'P464', 'I40A', 'OXYC', 'P470', 'P462', 'P483', 'P553', 'CRU1', 'OVLS', 'P580', 'CRFP', 'EWPP', 'VDCY', 'WMDG', 'LINC', 'HOL3', 'CUHS', 'P471', 'SACY', 'P490', 'RYAN', 'RHCG', 'CRRS', 'RBRU', 'MSOB', 'P512', 'P611', 'P652', 'P500', 'P600', 'P486', 'ELTN', 'SIO5', 'TABV', 'P588', 'DAM2', 'MINS', 'P308', 'KBRC', 'DESC', 'CLAR', 'CIT1', 'BFLD', 'MSCG', 'BILL', 'CSDH', 'CACT', 'RDOM', 'LBC1', 'TMAP', 'BSRY', 'P809', 'GOLD', 'CIRX', 'P603', 'P595', 'PHIN', 'P592', 'P615', 'BEPK', 'P589', 'TRAK', 'MVFD', 'MJPK', 'P574', 'RAAP', 'P056', 'P504', 'P566', 'P638', 'BEMT', 'RAPT', 'P729', 'P555', 'P610', 'ECFS', 'P724', 'WCHS', 'NOPE', 'RHCL', 'P799', 'P723', 'TORP', 'P502', 'SGPS', 'P509', 'P599', 'TABL', 'VNPS', 'SLHG', 'P653', 'ELSG', 'JPLM', 'MRDM', 'P649', 'SIMM', 'RTHS', 'P469', 'SKYB', 'LLAS', 'MTA1', 'SCIP', 'HBCO', 'P507', 'LMSG', 'P571', 'LONG', 'LINJ', 'P066', 'DYH2', 'VCST', 'FMVT', 'MPWD', 'P614', 'RSVY', 'RAGG', 'P607', 'ARM1', 'DOND', 'FOXG', 'P616', 'BRPK', 'P606', 'LEMA', 'THMS', 'CPBN', 'PMTN', 'BAR1', 'P562', 'AR53', 'P511', 'CJMS', 'P093', 'CMP9', 'P537', 'P551', 'P631', 'LGWD', 'CRHS', 'P650', 'CGDM', 'P626', 'P496', 'VTOR', 'P503', 'P582', 'BVPP', 'P651', 'MAT2', 'P567', 'P634', 'PBPP', 'PHLB', 'P604', 'ERRG', 'P508', 'CSCI', 'KRAC', 'P648', 'USGC', 'DHLG', 'PJZX', 'BLSA', 'P627', 'TILC', 'ORMT', 'P474', 'TAFT', 'CBHS', 'P547', 'CA99', 'P543', 'CCCC', 'P484', 'P586', 'OZST', 'P489', 'LBC2', 'CSN1', 'P520', 'JNHG', 'P630', 'P568', 'P480', 'P621', 'NOPK', 'LBCH', 'P499', 'P605', 'PALX', 'P622', 'P741', 'P596', 'P593', 'P632', 'VIMT', 'P641', 'P561', 'P554', 'AVRY', 'P644', 'CAT3', 'P476', 'P494', 'P812', 'CAT2', 'WWMT', 'SDHL', 'BBRY', 'SCIA', 'MLFP', 'P569', 'P481', 'SFDM', 'P493', 'SHRC', 'P477', 'GMAG', 'P587', 'BKAP', 'CRAM', 'CJMG', 'LDES', 'P810', 'SAWC', 'P594', 'P636', 'HOLP', 'ANA1', 'BBDM', 'PIN1', 'DONO', 'P467', 'P617', 'PPBF', 'CRGG', 'CHMS', 'OAES', 'P581', 'RKMG', 'QHTP', 'SPK1', 'SPMS', 'P091', 'P590', 'BGIS', 'P800', 'OPCL', 'SNI1', 'P498', 'PVRS', 'HNPS', 'P485', 'P811', 'AR27', 'P556', 'P572', 'FVPK', 'PHJX', 'BKR2', 'CJVG', 'GLRS', 'POTR', 'P564', 'P478', 'MUSB', 'DVPB', 'DLNO', 'P570', 'POBG', 'PLPX', 'P468', 'BEAT', 'MONP', 'TIVA', 'RAMT', 'P744', 'SLMS', 'HCMN', 'P522', 'P479', 'RDMT', 'ISLK', 'P575', 'P609', 'COKG', 'GVRS', 'DSME', 'RSTP', 'RMVJ', 'LAPC', 'P795', 'ALPP', 'FHOG', 'P506', 'P742', 'UCSB', 'BKR1', 'LPCG', 'P473', 'P726', 'P633', 'P472', 'COPR', 'LRRG', 'AZRY', 'VTIS', 'DDMN', 'P487', 'IDOG', 'IMPS', 'HELB', 'DAM3', 'PVHS', 'VNCX', 'P510', 'PTAX', 'BRAN', 'P808', 'CRCN', 'ELSC', 'CNPP', 'P492', 'SILK', 'BKMS', 'HOTK', 'THCP', 'LKHG', 'ACSB', 'P565', 'P545', 'PLO6', 'OEOC', 'P497', 'P501', 'BALD', 'GHRP', 'CDMT', 'RCA2', 'P629', 'KYVW', 'P466', 'LPHS', 'P591', 'P544', 'WIDC', 'P598', 'HAR7', 'NHRG', 'GDEC', 'UCLP', 'P560', 'P548', 'WATC', 'P579', 'P647', 'KNOL', 'DSSC', 'OPBL', 'P612', 'PIN2'}\n",
      "Number of common stations: 492\n",
      "Elements unique to station_list: {'DS13', 'RCSC', 'PMOB'}\n",
      "Number of unique elements in station_list: 3\n",
      "Elements unique to list1: {'USC1', 'LEBC', 'COSO', 'MXS1'}\n",
      "Number of unique elements in list1: 4\n"
     ]
    }
   ],
   "source": [
    "import pandas as pd\n",
    "\n",
    "# Loop through the years from 2004 to 2024\n",
    "for year in range(2004, 2025):\n",
    "    file_path_1 = f'/root/data/rrr/integrated_weather_dataset/data/processed/Troposphere/{year}.csv'\n",
    "    file_path_2 = f'/root/data/rrr/integrated_weather_dataset/data/processed/Troposphere/{year + 1}.csv'\n",
    "\n",
    "    df1 = pd.read_csv(file_path_1)\n",
    "    df2 = pd.read_csv(file_path_2)\n",
    "    \n",
    "    list1 = set(df1['Site'])\n",
    "    list2 = set(df2['Site'])\n",
    "    \n",
    "    common_stations = list1.intersection(list2)\n",
    "    unique1 = list2 - list1\n",
    "    unique2 = list1 - list2\n",
    "    \n",
    "    len_common = len(common_stations)\n",
    "    len_1 = len(unique1)\n",
    "    len_2 = len(unique2)\n",
    "    \n",
    "    print(f\"Year: {year} - {year + 1}\")\n",
    "    print(f\"Common stations: {common_stations}\")\n",
    "    print(f\"Number of common stations: {len_common}\")\n",
    "    print(f\"Number of sites added from {year} to {year + 1}: {len_1}\")\n",
    "    print(f\"Sites added from {year} to {year + 1}: {unique1}\")\n",
    "    print(f\"Number of sites excluded from {year} to {year + 1}: {len_2}\")\n",
    "    print(f\"Sites excluded from {year} to {year + 1}: {unique2}\")\n",
    "    print(\"-\" * 40)\n"
   ]
  },
  {
   "cell_type": "code",
   "execution_count": null,
   "id": "ce0b1813-08a0-4a4b-82bc-254d03eb9019",
   "metadata": {},
   "outputs": [],
   "source": []
  }
 ],
 "metadata": {
  "kernelspec": {
   "display_name": "Python 3 (ipykernel)",
   "language": "python",
   "name": "python3"
  },
  "language_info": {
   "codemirror_mode": {
    "name": "ipython",
    "version": 3
   },
   "file_extension": ".py",
   "mimetype": "text/x-python",
   "name": "python",
   "nbconvert_exporter": "python",
   "pygments_lexer": "ipython3",
   "version": "3.13.1"
  }
 },
 "nbformat": 4,
 "nbformat_minor": 5
}
