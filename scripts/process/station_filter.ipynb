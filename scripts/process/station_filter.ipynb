{
 "cells": [
  {
   "cell_type": "code",
   "execution_count": 5,
   "id": "aac94dc8-e52b-41e9-973a-2ab795066d09",
   "metadata": {},
   "outputs": [
    {
     "name": "stdout",
     "output_type": "stream",
     "text": [
      "Filtered Stations:\n",
      "['7odm', 'acsb', 'agmt', 'alam', 'alpp', 'ana1', 'aoa1', 'ar27', 'ar53', 'argu', 'arm1', 'arm2', 'ashm', 'avry', 'azry', 'azu1', 'bald', 'bar1', 'batm', 'bbdm', 'bbry', 'bcwr', 'beat', 'bemt', 'bepk', 'bfld', 'bfsh', 'bgis', 'bill', 'bkap', 'bkms', 'bkr1', 'bkr2', 'blsa', 'bmhl', 'bmry', 'bomg', 'bran', 'brpk', 'bsry', 'btdm', 'bull', 'bust', 'bvpp', 'ca99', 'cact', 'casa', 'case', 'cat1', 'cat2', 'cat3', 'cbhs', 'cccc', 'ccco', 'cccs', 'ccst', 'cdmt', 'cgdm', 'chil', 'chlo', 'chms', 'cic1', 'cice', 'cirx', 'cit1', 'cjmg', 'cjms', 'cjvg', 'clar', 'clbd', 'cmp9', 'cnpp', 'coag', 'cokg', 'copr', 'corx', 'coso', 'cotd', 'cpbn', 'cram', 'crat', 'crcn', 'crfp', 'crgg', 'crhs', 'crrs', 'cru1', 'csci', 'csdh', 'csn1', 'csst', 'ctdm', 'ctms', 'cuhs', 'cvhs', 'dam1', 'dam2', 'dam3', 'ddmn', 'desc', 'dhlg', 'dlno', 'dluz', 'dond', 'dono', 'drew', 'ds13', 'dshs', 'dsme', 'dssc', 'dvle', 'dvls', 'dvlw', 'dvne', 'dvnw', 'dvpb', 'dvse', 'dvsw', 'dyer', 'dyh2', 'dyhs', 'ecco', 'ecfs', 'edpp', 'elly', 'elsc', 'elsg', 'eltn', 'elts', 'errg', 'ese2', 'esre', 'esrw', 'ewpp', 'fhog', 'fmtp', 'fmvt', 'foxg', 'fshb', 'fvpk', 'fxhs', 'fzhs', 'gdec', 'ghrp', 'glrs', 'gmag', 'gmrc', 'gol2', 'gold', 'gvrs', 'har7', 'hbco', 'hcmn', 'helb', 'hell', 'help', 'hivi', 'hmtg', 'hnps', 'hol3', 'holc', 'holp', 'hotk', 'hvys', 'i40a', 'ibex', 'idog', 'idqg', 'iid2', 'imps', 'islk', 'ivco', 'jas1', 'jnhg', 'jnpr', 'john', 'jplm', 'kbrc', 'kdl1', 'knol', 'krac', 'kyvw', 'lapc', 'lasc', 'lbc1', 'lbc2', 'lbch', 'lbrf', 'ldes', 'ldsw', 'lebc', 'leep', 'lema', 'lfrs', 'lgwd', 'lice', 'linc', 'linj', 'litt', 'ljrn', 'lkhg', 'll01', 'llas', 'lmhg', 'lmsg', 'lnco', 'lnmt', 'long', 'lors', 'lpcg', 'lphs', 'lrrg', 'lvms', 'lvwd', 'mat2', 'math', 'merc', 'mhms', 'mins', 'mjpk', 'mlfp', 'monp', 'mpwd', 'mrdm', 'mrry', 'mscg', 'msob', 'mta1', 'mtgg', 'musb', 'musd', 'mvfd', 'mwtp', 'mxs1', 'nbps', 'neva', 'nhrg', 'noco', 'nope', 'nopk', 'nsss', 'oaes', 'oat2', 'ocsd', 'oeoc', 'oghs', 'opbl', 'opcl', 'opcp', 'opcx', 'oprd', 'ormt', 'ovls', 'oxyc', 'ozst', 'p056', 'p066', 'p091', 'p092', 'p093', 'p094', 'p245', 'p308', 'p311', 'p462', 'p463', 'p464', 'p465', 'p466', 'p467', 'p468', 'p469', 'p470', 'p471', 'p472', 'p473', 'p474', 'p475', 'p476', 'p477', 'p478', 'p479', 'p480', 'p481', 'p482', 'p483', 'p484', 'p485', 'p486', 'p487', 'p488', 'p489', 'p490', 'p491', 'p492', 'p493', 'p494', 'p495', 'p496', 'p497', 'p498', 'p499', 'p500', 'p501', 'p502', 'p503', 'p504', 'p505', 'p506', 'p507', 'p508', 'p509', 'p510', 'p511', 'p512', 'p517', 'p519', 'p520', 'p521', 'p522', 'p537', 'p543', 'p544', 'p545', 'p547', 'p548', 'p549', 'p550', 'p551', 'p553', 'p554', 'p555', 'p556', 'p557', 'p558', 'p559', 'p560', 'p561', 'p562', 'p563', 'p564', 'p565', 'p566', 'p567', 'p568', 'p569', 'p570', 'p571', 'p572', 'p573', 'p574', 'p575', 'p577', 'p579', 'p580', 'p581', 'p582', 'p583', 'p584', 'p585', 'p586', 'p587', 'p588', 'p589', 'p590', 'p591', 'p592', 'p593', 'p594', 'p595', 'p596', 'p597', 'p598', 'p599', 'p600', 'p601', 'p603', 'p604', 'p605', 'p606', 'p607', 'p608', 'p609', 'p610', 'p611', 'p612', 'p613', 'p614', 'p615', 'p616', 'p617', 'p618', 'p619', 'p620', 'p621', 'p622', 'p626', 'p627', 'p628', 'p629', 'p630', 'p631', 'p632', 'p633', 'p634', 'p635', 'p636', 'p637', 'p638', 'p639', 'p640', 'p641', 'p642', 'p643', 'p644', 'p645', 'p646', 'p647', 'p648', 'p649', 'p650', 'p651', 'p652', 'p653', 'p723', 'p724', 'p725', 'p726', 'p727', 'p729', 'p740', 'p741', 'p742', 'p744', 'p795', 'p797', 'p799', 'p800', 'p808', 'p809', 'p810', 'p811', 'p812', 'palx', 'pbpp', 'perl', 'phin', 'phjx', 'phlb', 'pin1', 'pin2', 'pjzx', 'pkrd', 'plo3', 'plo5', 'plo6', 'plpx', 'pltx', 'pmhs', 'pmob', 'pmtn', 'pobg', 'poin', 'potr', 'ppbf', 'psap', 'psdm', 'ptax', 'ptex', 'pve3', 'pvep', 'pvhs', 'pvrs', 'qhtp', 'raap', 'ragg', 'ramt', 'rapt', 'rbru', 'rca2', 'rcsc', 'rdmt', 'rdom', 'rela', 'rep2', 'rep3', 'rep4', 'repo', 'rhcg', 'rhcl', 'rkmg', 'rmvj', 'roch', 'rock', 'roge', 'rstp', 'rsvy', 'rths', 'rump', 'ryan', 'sacy', 'sawc', 'sbcc', 'scia', 'scip', 'scms', 'sdhl', 'sfdm', 'sgdm', 'sghs', 'sgps', 'shos', 'shrc', 'sibe', 'silk', 'simm', 'sio3', 'sio5', 'skul', 'skyb', 'slhg', 'slms', 'smyc', 'snhs', 'sni1', 'snog', 'somt', 'song', 'spk1', 'spms', 'spw2', 'stri', 'tabl', 'tabv', 'taft', 'tate', 'teha', 'thcp', 'thm2', 'thmg', 'thms', 'tilc', 'tiva', 'tmap', 'torp', 'tost', 'trak', 'troy', 'twms', 'uclp', 'ucsb', 'usc1', 'usgc', 'vcst', 'vdcy', 'vimt', 'vine', 'vinz', 'vnco', 'vncx', 'vnps', 'vons', 'vtis', 'vtor', 'vyas', 'wasg', 'watc', 'wchs', 'wgpp', 'whc1', 'whyt', 'widc', 'wkpk', 'wlsn', 'wmap', 'wmdg', 'wnra', 'womt', 'wrhs', 'wwfg', 'wwmt', 'yuhg']\n",
      "Number of stations\n",
      "582\n"
     ]
    },
    {
     "name": "stderr",
     "output_type": "stream",
     "text": [
      "/tmp/ipykernel_4336/795246743.py:11: FutureWarning: The 'delim_whitespace' keyword in pd.read_csv is deprecated and will be removed in a future version. Use ``sep='\\s+'`` instead\n",
      "  sites_df = pd.read_csv(file_path, delim_whitespace=True, names=columns, skiprows=1)\n"
     ]
    }
   ],
   "source": [
    "import pandas as pd\n",
    "\n",
    "file_path = '/root/data/rrr/integrated_weather_dataset/config/stations.txt'\n",
    "\n",
    "MIN_LON = -120+360\n",
    "MAX_LON = -115+360\n",
    "MIN_LAT = 31.5\n",
    "MAX_LAT = 38\n",
    "\n",
    "columns = ['Site', 'Longitude', 'Latitude', 'Height', 'Nvel', 'Evel', 'Uvel', 'Nerr', 'Eerr', 'Uerr']\n",
    "sites_df = pd.read_csv(file_path, delim_whitespace=True, names=columns, skiprows=1)\n",
    "\n",
    "filtered_sites = data[\n",
    "    (sites_df['Longitude'] >= MIN_LON) & (sites_df['Longitude'] <= MAX_LON) &\n",
    "    (sites_df['Latitude'] >= MIN_LAT) & (sites_df['Latitude'] <= MAX_LAT)\n",
    "]\n",
    "\n",
    "print(\"Filtered Stations:\")\n",
    "print(filtered_sites['Site'].tolist())\n",
    "\n",
    "print('Number of stations')\n",
    "print(len(filtered_sites['Site']))\n"
   ]
  },
  {
   "cell_type": "code",
   "execution_count": 6,
   "id": "6d5e334c-0c24-4ff8-87c7-2ac04f8e2943",
   "metadata": {},
   "outputs": [],
   "source": [
    "df = pd.read_csv('/root/data/rrr/integrated_weather_dataset/data/processed/Troposphere/2015.csv')"
   ]
  },
  {
   "cell_type": "code",
   "execution_count": 10,
   "id": "4871e070-d512-4cc4-ba17-bacab6325aba",
   "metadata": {},
   "outputs": [],
   "source": [
    "list1 = df['Site'].tolist()"
   ]
  },
  {
   "cell_type": "code",
   "execution_count": 15,
   "id": "c02a8443-eba6-4a57-9587-a76b2a57ab76",
   "metadata": {},
   "outputs": [],
   "source": [
    "station_list = ['7odm', 'acsb', 'agmt', 'alam', 'alpp', 'ana1', 'aoa1', 'ar27', 'ar53', 'argu', 'arm1', 'arm2', 'ashm', 'avry', 'azry', 'azu1', 'bald', 'bar1', 'batm', 'bbdm', 'bbry', 'bcwr', 'beat', 'bemt', 'bepk', 'bfld', 'bfsh', 'bgis', 'bill', 'bkap', 'bkms', 'bkr1', 'bkr2', 'blsa', 'bmhl', 'bmry', 'bomg', 'bran', 'brpk', 'bsry', 'btdm', 'bull', 'bust', 'bvpp', 'ca99', 'cact', 'casa', 'case', 'cat1', 'cat2', 'cat3', 'cbhs', 'cccc', 'ccco', 'cccs', 'ccst', 'cdmt', 'cgdm', 'chil', 'chlo', 'chms', 'cic1', 'cice', 'cirx', 'cit1', 'cjmg', 'cjms', 'cjvg', 'clar', 'clbd', 'cmp9', 'cnpp', 'coag', 'cokg', 'copr', 'corx', 'coso', 'cotd', 'cpbn', 'cram', 'crat', 'crcn', 'crfp', 'crgg', 'crhs', 'crrs', 'cru1', 'csci', 'csdh', 'csn1', 'csst', 'ctdm', 'ctms', 'cuhs', 'cvhs', 'dam1', 'dam2', 'dam3', 'ddmn', 'desc', 'dhlg', 'dlno', 'dluz', 'dond', 'dono', 'drew', 'ds13', 'dshs', 'dsme', 'dssc', 'dvle', 'dvls', 'dvlw', 'dvne', 'dvnw', 'dvpb', 'dvse', 'dvsw', 'dyer', 'dyh2', 'dyhs', 'ecco', 'ecfs', 'edpp', 'elly', 'elsc', 'elsg', 'eltn', 'elts', 'errg', 'ese2', 'esre', 'esrw', 'ewpp', 'fhog', 'fmtp', 'fmvt', 'foxg', 'fshb', 'fvpk', 'fxhs', 'fzhs', 'gdec', 'ghrp', 'glrs', 'gmag', 'gmrc', 'gol2', 'gold', 'gvrs', 'har7', 'hbco', 'hcmn', 'helb', 'hell', 'help', 'hivi', 'hmtg', 'hnps', 'hol3', 'holc', 'holp', 'hotk', 'hvys', 'i40a', 'ibex', 'idog', 'idqg', 'iid2', 'imps', 'islk', 'ivco', 'jas1', 'jnhg', 'jnpr', 'john', 'jplm', 'kbrc', 'kdl1', 'knol', 'krac', 'kyvw', 'lapc', 'lasc', 'lbc1', 'lbc2', 'lbch', 'lbrf', 'ldes', 'ldsw', 'lebc', 'leep', 'lema', 'lfrs', 'lgwd', 'lice', 'linc', 'linj', 'litt', 'ljrn', 'lkhg', 'll01', 'llas', 'lmhg', 'lmsg', 'lnco', 'lnmt', 'long', 'lors', 'lpcg', 'lphs', 'lrrg', 'lvms', 'lvwd', 'mat2', 'math', 'merc', 'mhms', 'mins', 'mjpk', 'mlfp', 'monp', 'mpwd', 'mrdm', 'mrry', 'mscg', 'msob', 'mta1', 'mtgg', 'musb', 'musd', 'mvfd', 'mwtp', 'mxs1', 'nbps', 'neva', 'nhrg', 'noco', 'nope', 'nopk', 'nsss', 'oaes', 'oat2', 'ocsd', 'oeoc', 'oghs', 'opbl', 'opcl', 'opcp', 'opcx', 'oprd', 'ormt', 'ovls', 'oxyc', 'ozst', 'p056', 'p066', 'p091', 'p092', 'p093', 'p094', 'p245', 'p308', 'p311', 'p462', 'p463', 'p464', 'p465', 'p466', 'p467', 'p468', 'p469', 'p470', 'p471', 'p472', 'p473', 'p474', 'p475', 'p476', 'p477', 'p478', 'p479', 'p480', 'p481', 'p482', 'p483', 'p484', 'p485', 'p486', 'p487', 'p488', 'p489', 'p490', 'p491', 'p492', 'p493', 'p494', 'p495', 'p496', 'p497', 'p498', 'p499', 'p500', 'p501', 'p502', 'p503', 'p504', 'p505', 'p506', 'p507', 'p508', 'p509', 'p510', 'p511', 'p512', 'p517', 'p519', 'p520', 'p521', 'p522', 'p537', 'p543', 'p544', 'p545', 'p547', 'p548', 'p549', 'p550', 'p551', 'p553', 'p554', 'p555', 'p556', 'p557', 'p558', 'p559', 'p560', 'p561', 'p562', 'p563', 'p564', 'p565', 'p566', 'p567', 'p568', 'p569', 'p570', 'p571', 'p572', 'p573', 'p574', 'p575', 'p577', 'p579', 'p580', 'p581', 'p582', 'p583', 'p584', 'p585', 'p586', 'p587', 'p588', 'p589', 'p590', 'p591', 'p592', 'p593', 'p594', 'p595', 'p596', 'p597', 'p598', 'p599', 'p600', 'p601', 'p603', 'p604', 'p605', 'p606', 'p607', 'p608', 'p609', 'p610', 'p611', 'p612', 'p613', 'p614', 'p615', 'p616', 'p617', 'p618', 'p619', 'p620', 'p621', 'p622', 'p626', 'p627', 'p628', 'p629', 'p630', 'p631', 'p632', 'p633', 'p634', 'p635', 'p636', 'p637', 'p638', 'p639', 'p640', 'p641', 'p642', 'p643', 'p644', 'p645', 'p646', 'p647', 'p648', 'p649', 'p650', 'p651', 'p652', 'p653', 'p723', 'p724', 'p725', 'p726', 'p727', 'p729', 'p740', 'p741', 'p742', 'p744', 'p795', 'p797', 'p799', 'p800', 'p808', 'p809', 'p810', 'p811', 'p812', 'palx', 'pbpp', 'perl', 'phin', 'phjx', 'phlb', 'pin1', 'pin2', 'pjzx', 'pkrd', 'plo3', 'plo5', 'plo6', 'plpx', 'pltx', 'pmhs', 'pmob', 'pmtn', 'pobg', 'poin', 'potr', 'ppbf', 'psap', 'psdm', 'ptax', 'ptex', 'pve3', 'pvep', 'pvhs', 'pvrs', 'qhtp', 'raap', 'ragg', 'ramt', 'rapt', 'rbru', 'rca2', 'rcsc', 'rdmt', 'rdom', 'rela', 'rep2', 'rep3', 'rep4', 'repo', 'rhcg', 'rhcl', 'rkmg', 'rmvj', 'roch', 'rock', 'roge', 'rstp', 'rsvy', 'rths', 'rump', 'ryan', 'sacy', 'sawc', 'sbcc', 'scia', 'scip', 'scms', 'sdhl', 'sfdm', 'sgdm', 'sghs', 'sgps', 'shos', 'shrc', 'sibe', 'silk', 'simm', 'sio3', 'sio5', 'skul', 'skyb', 'slhg', 'slms', 'smyc', 'snhs', 'sni1', 'snog', 'somt', 'song', 'spk1', 'spms', 'spw2', 'stri', 'tabl', 'tabv', 'taft', 'tate', 'teha', 'thcp', 'thm2', 'thmg', 'thms', 'tilc', 'tiva', 'tmap', 'torp', 'tost', 'trak', 'troy', 'twms', 'uclp', 'ucsb', 'usc1', 'usgc', 'vcst', 'vdcy', 'vimt', 'vine', 'vinz', 'vnco', 'vncx', 'vnps', 'vons', 'vtis', 'vtor', 'vyas', 'wasg', 'watc', 'wchs', 'wgpp', 'whc1', 'whyt', 'widc', 'wkpk', 'wlsn', 'wmap', 'wmdg', 'wnra', 'womt', 'wrhs', 'wwfg', 'wwmt', 'yuhg']\n",
    "station_list = [word.upper() for word in station_list]\n"
   ]
  },
  {
   "cell_type": "code",
   "execution_count": 16,
   "id": "2a056cde-bf29-4466-ac92-06350f51ca37",
   "metadata": {},
   "outputs": [],
   "source": [
    "station_list = set(station_list)\n",
    "list1 = set(list1)\n"
   ]
  },
  {
   "cell_type": "code",
   "execution_count": 17,
   "id": "90b2705e-0542-40f8-b0f0-e6cd45cded24",
   "metadata": {},
   "outputs": [
    {
     "name": "stdout",
     "output_type": "stream",
     "text": [
      "Common stations: {'LEBC', 'P729', 'TILC', 'SNI1', 'PHLB', 'MTGG', 'CLAR', 'VNPS', 'P466', 'ELSG', 'OEOC', 'ACSB', 'BBDM', 'P571', 'P610', 'CCCS', 'CTDM', 'P472', 'UCSB', 'DSME', 'LLAS', 'DESC', 'LRRG', 'ERRG', 'WWMT', 'P486', 'COTD', 'VTOR', 'PLO6', 'LNMT', 'P503', 'P652', 'P606', 'CRCN', 'JNHG', 'BILL', 'UCLP', 'PVHS', 'P632', 'P612', 'P498', 'SFDM', 'SCIP', 'P555', 'DVPB', 'PHJX', 'CAT2', 'LMSG', 'P494', 'PLO5', 'OCSD', 'AR27', 'LBC2', 'DYH2', 'MRDM', 'OPRD', 'DLUZ', 'LDSW', 'PTAX', 'P740', 'BCWR', 'THMG', 'RAGG', 'TABL', 'P580', 'CACT', 'P724', 'PPBF', 'SONG', 'P795', 'P582', 'CJVG', 'P594', 'AR53', 'TEHA', 'RSTP', 'P506', 'CPBN', 'WASG', 'P520', 'PJZX', 'P469', 'USC1', 'TRAK', 'CVHS', 'BOMG', 'P611', 'P092', 'P648', 'P808', 'BFLD', 'BEPK', 'CSN1', 'P512', 'LEMA', 'P477', 'P641', 'CMP9', 'BRPK', 'P620', 'P556', 'P723', 'P544', 'HOLP', 'P496', 'SHOS', 'PVE3', 'RHCG', 'P637', 'FMTP', 'TWMS', 'GHRP', 'CHIL', 'P598', 'VCST', 'WHYT', 'NOCO', 'SNOG', 'P465', 'CA99', 'WGPP', 'CCCC', 'HNPS', 'RDOM', 'P511', 'P492', 'P600', 'RAPT', 'P489', 'P471', 'ANA1', 'P588', 'MSCG', 'P500', 'P629', 'MONP', 'P618', 'P550', 'P633', 'P581', 'BEAT', 'LJRN', 'DAM2', 'VNCX', 'KNOL', 'P473', 'VNCO', 'HIVI', 'WIDC', 'GOLD', 'P642', 'RTHS', 'P586', 'VDCY', 'P497', 'PLTX', 'P094', 'LPHS', 'P634', 'P570', 'CNPP', 'PVRS', 'BKMS', 'P562', 'P485', 'P481', 'P797', 'ROCK', 'P468', 'IMPS', 'P604', 'CRFP', 'LORS', 'P574', 'TAFT', 'COAG', 'LMHG', 'AZRY', 'CJMS', 'THMS', 'P622', 'P597', 'P537', 'P575', 'P480', 'P567', 'TIVA', 'P499', 'SPMS', 'FVPK', 'THCP', 'SGPS', 'OPCX', 'P547', 'PALX', 'WCHS', 'P595', 'YUHG', 'LINC', 'P741', 'HELB', 'IID2', 'P507', 'IDOG', 'P521', 'CSCI', 'QHTP', 'P493', 'BTDM', 'PHIN', 'CRU1', 'POTR', 'P490', 'P553', 'SACY', 'MINS', 'VTIS', 'VIMT', 'MAT2', 'BVPP', 'MTA1', 'GOL2', 'CUHS', 'P545', 'P484', 'WRHS', 'CDMT', 'ORMT', 'P577', 'P628', 'P621', 'SDHL', 'P639', 'SPK1', 'P066', 'JPLM', 'LL01', 'DDMN', 'P614', 'P488', 'P478', 'PMTN', 'OZST', 'P573', 'TMAP', 'TOST', 'OPBL', 'FSHB', 'FZHS', 'LVMS', 'P608', 'P474', 'BBRY', 'DAM3', 'BSRY', 'P093', 'P563', 'NHRG', 'P645', 'SHRC', 'P650', 'P649', 'TORP', 'BAR1', 'P505', 'P475', 'GVRS', '7ODM', 'PBPP', 'P467', 'RBRU', 'CSDH', 'LPCG', 'P616', 'P522', 'P584', 'P508', 'PKRD', 'P517', 'P560', 'OXYC', 'P630', 'MERC', 'P463', 'P482', 'P593', 'BKAP', 'P631', 'NOPK', 'P554', 'P615', 'P812', 'TABV', 'P609', 'RSVY', 'P638', 'P726', 'BLSA', 'P495', 'SBCC', 'RHCL', 'P543', 'CCST', 'CLBD', 'P799', 'P640', 'PIN1', 'LINJ', 'EDPP', 'P568', 'BEMT', 'P627', 'BMHL', 'WMDG', 'CGDM', 'OAES', 'P617', 'P476', 'PTEX', 'BFSH', 'SLHG', 'P091', 'P589', 'P509', 'SIMM', 'MJPK', 'P566', 'KYVW', 'SILK', 'ASHM', 'FOXG', 'SGDM', 'ELTS', 'MPWD', 'P744', 'P651', 'RDMT', 'ARM1', 'USGC', 'MLFP', 'RCA2', 'CJMG', 'P491', 'P644', 'COPR', 'LGWD', 'WWFG', 'ECFS', 'SOMT', 'P596', 'HAR7', 'ISLK', 'P646', 'VINZ', 'P619', 'SNHS', 'P635', 'FHOG', 'P647', 'CRAM', 'P587', 'P811', 'HMTG', 'P056', 'HVYS', 'NOPE', 'BALD', 'P557', 'MSOB', 'P549', 'P643', 'P311', 'RAMT', 'ELTN', 'P626', 'IDQG', 'P519', 'RMVJ', 'AGMT', 'I40A', 'P308', 'CSST', 'P601', 'LDES', 'P636', 'LBCH', 'HOL3', 'BRAN', 'COSO', 'P605', 'BGIS', 'DLNO', 'P548', 'P727', 'P800', 'ELSC', 'FMVT', 'CBHS', 'P464', 'P564', 'CRHS', 'P558', 'AVRY', 'P613', 'LFRS', 'P479', 'ELLY', 'CHMS', 'P653', 'CIT1', 'HBCO', 'MXS1', 'COKG', 'WKPK', 'P725', 'PLPX', 'MWTP', 'GMAG', 'CTMS', 'SCIA', 'MVFD', 'RYAN', 'P483', 'WATC', 'P487', 'DOND', 'SKYB', 'P510', 'ARM2', 'P501', 'BKR2', 'PIN2', 'KBRC', 'P607', 'P583', 'SLMS', 'CRGG', 'HOTK', 'DONO', 'PSAP', 'WMAP', 'ALPP', 'DHLG', 'P572', 'BKR1', 'OPCL', 'GLRS', 'EWPP', 'CAT3', 'AZU1', 'MUSB', 'P809', 'P462', 'LAPC', 'P599', 'CIRX', 'SIO5', 'LONG', 'GDEC', 'P579', 'LKHG', 'WNRA', 'WLSN', 'P585', 'P592', 'WOMT', 'RKMG', 'P569', 'CASE', 'KRAC', 'P591', 'P590', 'P561', 'P470', 'PSDM', 'P502', 'P810', 'WHC1', 'P245', 'LBC1', 'SAWC', 'GMRC', 'P565', 'CRRS', 'LEEP', 'MHMS', 'OPCP', 'HCMN', 'P603', 'RAAP', 'P504', 'OVLS', 'DSSC', 'POBG', 'P742', 'P551'}\n",
      "Number of common stations: 496\n",
      "Elements unique to station_list: {'DVNE', 'DYER', 'PMHS', 'PLO3', 'P559', 'STRI', 'BMRY', 'IVCO', 'CCCO', 'OGHS', 'JNPR', 'RUMP', 'DVSE', 'CORX', 'NEVA', 'CIC1', 'DVLS', 'KDL1', 'CASA', 'PMOB', 'JOHN', 'DVLW', 'LITT', 'DS13', 'ESE2', 'LICE', 'JAS1', 'REP4', 'ROCH', 'SIBE', 'BUST', 'LNCO', 'ESRW', 'LVWD', 'ESRE', 'OAT2', 'BATM', 'PERL', 'ECCO', 'DREW', 'HELL', 'DYHS', 'SIO3', 'MUSD', 'REPO', 'DVSW', 'RCSC', 'IBEX', 'ROGE', 'BULL', 'SGHS', 'POIN', 'REP3', 'DVLE', 'LBRF', 'CAT1', 'TATE', 'MATH', 'ARGU', 'DVNW', 'CICE', 'ALAM', 'HOLC', 'REP2', 'CHLO', 'SMYC', 'LASC', 'VINE', 'THM2', 'DAM1', 'CRAT', 'HELP', 'VONS', 'SPW2', 'NBPS', 'RELA', 'AOA1', 'PVEP', 'TROY', 'FXHS', 'VYAS', 'NSSS', 'DSHS', 'MRRY', 'SKUL', 'SCMS'}\n",
      "Number of unique elements in station_list: 86\n",
      "Elements unique to list1: set()\n",
      "Number of unique elements in list1: 0\n"
     ]
    }
   ],
   "source": [
    "common_stations = station_list.intersection(list1)\n",
    "\n",
    "unique1 = station_list - list1\n",
    "unique2 = list1 - station_list\n",
    "\n",
    "len_common = len(common_stations)\n",
    "len_1 = len(unique1)\n",
    "len_2 = len(unique2)\n",
    "\n",
    "print(f\"Common stations: {common_stations}\")\n",
    "print(f\"Number of common stations: {len_common}\")\n",
    "print(f\"Elements unique to station_list: {unique1}\")\n",
    "print(f\"Number of unique elements in station_list: {len_1}\")\n",
    "print(f\"Elements unique to list1: {unique2}\")\n",
    "print(f\"Number of unique elements in list1: {len_2}\")\n"
   ]
  },
  {
   "cell_type": "code",
   "execution_count": null,
   "id": "ce0b1813-08a0-4a4b-82bc-254d03eb9019",
   "metadata": {},
   "outputs": [],
   "source": []
  }
 ],
 "metadata": {
  "kernelspec": {
   "display_name": "Python 3 (ipykernel)",
   "language": "python",
   "name": "python3"
  },
  "language_info": {
   "codemirror_mode": {
    "name": "ipython",
    "version": 3
   },
   "file_extension": ".py",
   "mimetype": "text/x-python",
   "name": "python",
   "nbconvert_exporter": "python",
   "pygments_lexer": "ipython3",
   "version": "3.13.1"
  }
 },
 "nbformat": 4,
 "nbformat_minor": 5
}
