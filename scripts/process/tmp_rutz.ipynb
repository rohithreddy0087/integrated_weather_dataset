{
 "cells": [
  {
   "cell_type": "code",
   "execution_count": 1,
   "metadata": {},
   "outputs": [],
   "source": [
    "import xarray as xr\n",
    "import pandas as pd\n",
    "import numpy as np\n",
    "from datetime import datetime\n",
    "\n",
    "# Load your dataset (adjust the path accordingly)\n",
    "file_year = 2005\n",
    "nc_file_path = f'/root/data/rrr/integrated_weather_dataset/data/raw/Rutz_AR_Catalog/Rutz_ARCatalog_MERRA2_2004.nc'  \n",
    "\n",
    "ds = xr.open_dataset(nc_file_path)"
   ]
  },
  {
   "cell_type": "code",
   "execution_count": null,
   "metadata": {},
   "outputs": [],
   "source": [
    "ds.to_dataframe()"
   ]
  },
  {
   "cell_type": "code",
   "execution_count": 2,
   "metadata": {},
   "outputs": [],
   "source": [
    "MIN_LON = -120\n",
    "MAX_LON = -115\n",
    "MIN_LAT = 31.5\n",
    "MAX_LAT = 38"
   ]
  },
  {
   "cell_type": "code",
   "execution_count": 3,
   "metadata": {},
   "outputs": [],
   "source": [
    "ds_filtered = ds.where(\n",
    "    (ds[\"latitude\"] >= MIN_LAT) & (ds[\"latitude\"] <= MAX_LAT) &\n",
    "    (ds[\"longitude\"] >= MIN_LON) & (ds[\"longitude\"] <= MAX_LON),\n",
    "    drop=True\n",
    ")"
   ]
  },
  {
   "cell_type": "code",
   "execution_count": 6,
   "metadata": {},
   "outputs": [],
   "source": [
    "df = ds_filtered.to_dataframe()"
   ]
  },
  {
   "cell_type": "code",
   "execution_count": 11,
   "metadata": {},
   "outputs": [],
   "source": [
    "df[\"Timestamp\"] = pd.to_datetime(\n",
    "    df[[\"cal_year\", \"cal_mon\", \"cal_day\", \"cal_hour\"]].astype(int).rename(\n",
    "        columns={\"cal_year\": \"year\", \"cal_mon\": \"month\", \"cal_day\": \"day\", \"cal_hour\": \"hour\"}\n",
    "    )\n",
    ")"
   ]
  },
  {
   "cell_type": "code",
   "execution_count": 14,
   "metadata": {},
   "outputs": [],
   "source": [
    "df = df.reset_index().drop(columns=[\"nlon\", \"nlat\", \"ntim\"])"
   ]
  },
  {
   "cell_type": "code",
   "execution_count": 15,
   "metadata": {},
   "outputs": [],
   "source": [
    "result_df = df[[\"Timestamp\", \"longitude\", \"latitude\", \"IVT\", \"ARs\"]]\n"
   ]
  },
  {
   "cell_type": "code",
   "execution_count": 16,
   "metadata": {},
   "outputs": [
    {
     "data": {
      "text/html": [
       "<div>\n",
       "<style scoped>\n",
       "    .dataframe tbody tr th:only-of-type {\n",
       "        vertical-align: middle;\n",
       "    }\n",
       "\n",
       "    .dataframe tbody tr th {\n",
       "        vertical-align: top;\n",
       "    }\n",
       "\n",
       "    .dataframe thead th {\n",
       "        text-align: right;\n",
       "    }\n",
       "</style>\n",
       "<table border=\"1\" class=\"dataframe\">\n",
       "  <thead>\n",
       "    <tr style=\"text-align: right;\">\n",
       "      <th></th>\n",
       "      <th>Timestamp</th>\n",
       "      <th>longitude</th>\n",
       "      <th>latitude</th>\n",
       "      <th>IVT</th>\n",
       "      <th>ARs</th>\n",
       "    </tr>\n",
       "  </thead>\n",
       "  <tbody>\n",
       "    <tr>\n",
       "      <th>0</th>\n",
       "      <td>2004-01-01 00:00:00</td>\n",
       "      <td>-120.0</td>\n",
       "      <td>31.5</td>\n",
       "      <td>67.215446</td>\n",
       "      <td>0.0</td>\n",
       "    </tr>\n",
       "    <tr>\n",
       "      <th>1</th>\n",
       "      <td>2004-01-01 03:00:00</td>\n",
       "      <td>-120.0</td>\n",
       "      <td>31.5</td>\n",
       "      <td>65.255585</td>\n",
       "      <td>0.0</td>\n",
       "    </tr>\n",
       "    <tr>\n",
       "      <th>2</th>\n",
       "      <td>2004-01-01 06:00:00</td>\n",
       "      <td>-120.0</td>\n",
       "      <td>31.5</td>\n",
       "      <td>45.925446</td>\n",
       "      <td>0.0</td>\n",
       "    </tr>\n",
       "    <tr>\n",
       "      <th>3</th>\n",
       "      <td>2004-01-01 09:00:00</td>\n",
       "      <td>-120.0</td>\n",
       "      <td>31.5</td>\n",
       "      <td>33.749409</td>\n",
       "      <td>0.0</td>\n",
       "    </tr>\n",
       "    <tr>\n",
       "      <th>4</th>\n",
       "      <td>2004-01-01 12:00:00</td>\n",
       "      <td>-120.0</td>\n",
       "      <td>31.5</td>\n",
       "      <td>36.337650</td>\n",
       "      <td>0.0</td>\n",
       "    </tr>\n",
       "    <tr>\n",
       "      <th>...</th>\n",
       "      <td>...</td>\n",
       "      <td>...</td>\n",
       "      <td>...</td>\n",
       "      <td>...</td>\n",
       "      <td>...</td>\n",
       "    </tr>\n",
       "    <tr>\n",
       "      <th>368923</th>\n",
       "      <td>2004-12-31 09:00:00</td>\n",
       "      <td>-115.0</td>\n",
       "      <td>38.0</td>\n",
       "      <td>208.992188</td>\n",
       "      <td>0.0</td>\n",
       "    </tr>\n",
       "    <tr>\n",
       "      <th>368924</th>\n",
       "      <td>2004-12-31 12:00:00</td>\n",
       "      <td>-115.0</td>\n",
       "      <td>38.0</td>\n",
       "      <td>235.344757</td>\n",
       "      <td>0.0</td>\n",
       "    </tr>\n",
       "    <tr>\n",
       "      <th>368925</th>\n",
       "      <td>2004-12-31 15:00:00</td>\n",
       "      <td>-115.0</td>\n",
       "      <td>38.0</td>\n",
       "      <td>221.132523</td>\n",
       "      <td>0.0</td>\n",
       "    </tr>\n",
       "    <tr>\n",
       "      <th>368926</th>\n",
       "      <td>2004-12-31 18:00:00</td>\n",
       "      <td>-115.0</td>\n",
       "      <td>38.0</td>\n",
       "      <td>223.059464</td>\n",
       "      <td>0.0</td>\n",
       "    </tr>\n",
       "    <tr>\n",
       "      <th>368927</th>\n",
       "      <td>2004-12-31 21:00:00</td>\n",
       "      <td>-115.0</td>\n",
       "      <td>38.0</td>\n",
       "      <td>188.120209</td>\n",
       "      <td>0.0</td>\n",
       "    </tr>\n",
       "  </tbody>\n",
       "</table>\n",
       "<p>368928 rows × 5 columns</p>\n",
       "</div>"
      ],
      "text/plain": [
       "                 Timestamp  longitude  latitude         IVT  ARs\n",
       "0      2004-01-01 00:00:00     -120.0      31.5   67.215446  0.0\n",
       "1      2004-01-01 03:00:00     -120.0      31.5   65.255585  0.0\n",
       "2      2004-01-01 06:00:00     -120.0      31.5   45.925446  0.0\n",
       "3      2004-01-01 09:00:00     -120.0      31.5   33.749409  0.0\n",
       "4      2004-01-01 12:00:00     -120.0      31.5   36.337650  0.0\n",
       "...                    ...        ...       ...         ...  ...\n",
       "368923 2004-12-31 09:00:00     -115.0      38.0  208.992188  0.0\n",
       "368924 2004-12-31 12:00:00     -115.0      38.0  235.344757  0.0\n",
       "368925 2004-12-31 15:00:00     -115.0      38.0  221.132523  0.0\n",
       "368926 2004-12-31 18:00:00     -115.0      38.0  223.059464  0.0\n",
       "368927 2004-12-31 21:00:00     -115.0      38.0  188.120209  0.0\n",
       "\n",
       "[368928 rows x 5 columns]"
      ]
     },
     "execution_count": 16,
     "metadata": {},
     "output_type": "execute_result"
    }
   ],
   "source": [
    "result_df"
   ]
  }
 ],
 "metadata": {
  "kernelspec": {
   "display_name": "myenv",
   "language": "python",
   "name": "python3"
  },
  "language_info": {
   "codemirror_mode": {
    "name": "ipython",
    "version": 3
   },
   "file_extension": ".py",
   "mimetype": "text/x-python",
   "name": "python",
   "nbconvert_exporter": "python",
   "pygments_lexer": "ipython3",
   "version": "3.8.16"
  }
 },
 "nbformat": 4,
 "nbformat_minor": 2
}
