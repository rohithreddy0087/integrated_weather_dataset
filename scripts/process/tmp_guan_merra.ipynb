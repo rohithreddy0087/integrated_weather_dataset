{
 "cells": [
  {
   "cell_type": "code",
   "execution_count": 1,
   "metadata": {},
   "outputs": [],
   "source": [
    "import os, sys\n",
    "import numpy as np\n",
    "import xarray as xr\n",
    "import pandas as pd"
   ]
  },
  {
   "cell_type": "code",
   "execution_count": 2,
   "metadata": {},
   "outputs": [
    {
     "name": "stderr",
     "output_type": "stream",
     "text": [
      "/tmp/ipykernel_2892/2619948906.py:2: UserWarning: The specified chunks separate the stored chunks along dimension \"time\" starting at index 1460. This could degrade performance. Instead, consider rechunking after loading.\n",
      "  ds = xr.open_dataset(filename, chunks={'time': 1460}, engine='netcdf4')\n"
     ]
    }
   ],
   "source": [
    "filename =  '/gnn/rrr/integrated_weather_dataset/data/raw/Guan_AR_Catalog/globalARcatalog_MERRA2_1980-2023_v4.0.nc'\n",
    "ds = xr.open_dataset(filename, chunks={'time': 1460}, engine='netcdf4')\n",
    "ds = ds.squeeze()\n",
    "ds = ds.reset_coords(names=['lev', 'ens'], drop=True)"
   ]
  },
  {
   "cell_type": "code",
   "execution_count": 3,
   "metadata": {},
   "outputs": [
    {
     "name": "stdout",
     "output_type": "stream",
     "text": [
      "Data selected for date : 2016-01-01T00:00:00.000000000 to 2016-12-31T00:00:00.000000000 lat: 31.5 to 38 and lon: 240 to 245\n"
     ]
    }
   ],
   "source": [
    "# Step 2: Select the relevant geographical region\n",
    "MIN_LON = -120+360\n",
    "MAX_LON = -115+360\n",
    "MIN_LAT = 31.5\n",
    "MAX_LAT = 38\n",
    "start_date = '2016-01-01T00:00:00.000000000'\n",
    "end_date = '2016-12-31T00:00:00.000000000'\n",
    "ds = ds.sel(time=slice(start_date, end_date), lat=slice(MIN_LAT,MAX_LAT), lon=slice(MIN_LON,MAX_LON))\n",
    "print(f\"Data selected for date : {start_date} to {end_date} lat: {MIN_LAT} to {MAX_LAT} and lon: {MIN_LON} to {MAX_LON}\")\n"
   ]
  },
  {
   "cell_type": "code",
   "execution_count": 4,
   "metadata": {},
   "outputs": [
    {
     "name": "stdout",
     "output_type": "stream",
     "text": [
      "Generated all combinations of time, latitude, and longitude: 368046 rows\n"
     ]
    }
   ],
   "source": [
    "df = ds.shapemap.to_dataframe(dim_order=['time', 'lat', 'lon']).dropna()\n",
    "df = df.reset_index()\n",
    "df['time'] = pd.to_datetime(df['time'])\n",
    "df['Guan_AR_Label'] = df['shapemap'].notna().astype(int)\n",
    "all_times = pd.date_range(start=start_date, end=end_date, freq='3h') \n",
    "all_combinations = pd.MultiIndex.from_product(\n",
    "    [all_times, df['lat'].unique(), df['lon'].unique()],\n",
    "    names=['time', 'lat', 'lon']\n",
    ").to_frame(index=False)\n",
    "print(f\"Generated all combinations of time, latitude, and longitude: {len(all_combinations)} rows\")\n"
   ]
  },
  {
   "cell_type": "code",
   "execution_count": 5,
   "metadata": {},
   "outputs": [
    {
     "name": "stdout",
     "output_type": "stream",
     "text": [
      "Data merged with all combinations.\n"
     ]
    }
   ],
   "source": [
    "merged_df = pd.merge(\n",
    "    all_combinations,\n",
    "    df,\n",
    "    on=['time', 'lat', 'lon'],\n",
    "    how='left'\n",
    ").fillna({'Guan_AR_Label': 0})\n",
    "print(\"Data merged with all combinations.\")\n",
    "merged_df.rename(columns={'time': 'Timestamp', 'lat': 'Latitude', 'lon': 'Longitude'}, inplace=True)\n",
    "merged_df['Longitude'] = ((merged_df['Longitude'] + 180) % 360) - 180\n",
    "df_final = merged_df[['Timestamp', 'Latitude', 'Longitude', 'Guan_AR_Label']]\n"
   ]
  },
  {
   "cell_type": "code",
   "execution_count": 6,
   "metadata": {},
   "outputs": [
    {
     "data": {
      "text/html": [
       "<div>\n",
       "<style scoped>\n",
       "    .dataframe tbody tr th:only-of-type {\n",
       "        vertical-align: middle;\n",
       "    }\n",
       "\n",
       "    .dataframe tbody tr th {\n",
       "        vertical-align: top;\n",
       "    }\n",
       "\n",
       "    .dataframe thead th {\n",
       "        text-align: right;\n",
       "    }\n",
       "</style>\n",
       "<table border=\"1\" class=\"dataframe\">\n",
       "  <thead>\n",
       "    <tr style=\"text-align: right;\">\n",
       "      <th></th>\n",
       "      <th>Timestamp</th>\n",
       "      <th>Latitude</th>\n",
       "      <th>Longitude</th>\n",
       "      <th>Guan_AR_Label</th>\n",
       "    </tr>\n",
       "  </thead>\n",
       "  <tbody>\n",
       "    <tr>\n",
       "      <th>0</th>\n",
       "      <td>2016-01-01</td>\n",
       "      <td>31.5</td>\n",
       "      <td>-120.000</td>\n",
       "      <td>0.0</td>\n",
       "    </tr>\n",
       "    <tr>\n",
       "      <th>1</th>\n",
       "      <td>2016-01-01</td>\n",
       "      <td>31.5</td>\n",
       "      <td>-119.375</td>\n",
       "      <td>0.0</td>\n",
       "    </tr>\n",
       "    <tr>\n",
       "      <th>2</th>\n",
       "      <td>2016-01-01</td>\n",
       "      <td>31.5</td>\n",
       "      <td>-118.750</td>\n",
       "      <td>0.0</td>\n",
       "    </tr>\n",
       "    <tr>\n",
       "      <th>3</th>\n",
       "      <td>2016-01-01</td>\n",
       "      <td>31.5</td>\n",
       "      <td>-118.125</td>\n",
       "      <td>0.0</td>\n",
       "    </tr>\n",
       "    <tr>\n",
       "      <th>4</th>\n",
       "      <td>2016-01-01</td>\n",
       "      <td>31.5</td>\n",
       "      <td>-117.500</td>\n",
       "      <td>0.0</td>\n",
       "    </tr>\n",
       "    <tr>\n",
       "      <th>...</th>\n",
       "      <td>...</td>\n",
       "      <td>...</td>\n",
       "      <td>...</td>\n",
       "      <td>...</td>\n",
       "    </tr>\n",
       "    <tr>\n",
       "      <th>368041</th>\n",
       "      <td>2016-12-31</td>\n",
       "      <td>38.0</td>\n",
       "      <td>-117.500</td>\n",
       "      <td>0.0</td>\n",
       "    </tr>\n",
       "    <tr>\n",
       "      <th>368042</th>\n",
       "      <td>2016-12-31</td>\n",
       "      <td>38.0</td>\n",
       "      <td>-116.875</td>\n",
       "      <td>0.0</td>\n",
       "    </tr>\n",
       "    <tr>\n",
       "      <th>368043</th>\n",
       "      <td>2016-12-31</td>\n",
       "      <td>38.0</td>\n",
       "      <td>-116.250</td>\n",
       "      <td>0.0</td>\n",
       "    </tr>\n",
       "    <tr>\n",
       "      <th>368044</th>\n",
       "      <td>2016-12-31</td>\n",
       "      <td>38.0</td>\n",
       "      <td>-115.000</td>\n",
       "      <td>0.0</td>\n",
       "    </tr>\n",
       "    <tr>\n",
       "      <th>368045</th>\n",
       "      <td>2016-12-31</td>\n",
       "      <td>38.0</td>\n",
       "      <td>-115.625</td>\n",
       "      <td>0.0</td>\n",
       "    </tr>\n",
       "  </tbody>\n",
       "</table>\n",
       "<p>368046 rows × 4 columns</p>\n",
       "</div>"
      ],
      "text/plain": [
       "        Timestamp  Latitude  Longitude  Guan_AR_Label\n",
       "0      2016-01-01      31.5   -120.000            0.0\n",
       "1      2016-01-01      31.5   -119.375            0.0\n",
       "2      2016-01-01      31.5   -118.750            0.0\n",
       "3      2016-01-01      31.5   -118.125            0.0\n",
       "4      2016-01-01      31.5   -117.500            0.0\n",
       "...           ...       ...        ...            ...\n",
       "368041 2016-12-31      38.0   -117.500            0.0\n",
       "368042 2016-12-31      38.0   -116.875            0.0\n",
       "368043 2016-12-31      38.0   -116.250            0.0\n",
       "368044 2016-12-31      38.0   -115.000            0.0\n",
       "368045 2016-12-31      38.0   -115.625            0.0\n",
       "\n",
       "[368046 rows x 4 columns]"
      ]
     },
     "execution_count": 6,
     "metadata": {},
     "output_type": "execute_result"
    }
   ],
   "source": [
    "df_final"
   ]
  },
  {
   "cell_type": "code",
   "execution_count": 7,
   "metadata": {},
   "outputs": [],
   "source": [
    "df2 = pd.read_csv('/gnn/rrr/ES3-TACLS/AR/dataset/labels/2016.csv', index_col = False)\n",
    "df2['time'] = pd.to_datetime(df2['time'])\n",
    "all_times_2 = pd.date_range(start=start_date, end=end_date, freq='3h')  # 3-hour intervals\n",
    "all_combinations_2 = pd.MultiIndex.from_product(\n",
    "    [all_times_2, df2['lat'].unique(), df2['lon'].unique()],\n",
    "    names=['time', 'lat', 'lon']\n",
    ").to_frame(index=False)"
   ]
  },
  {
   "cell_type": "code",
   "execution_count": 8,
   "metadata": {},
   "outputs": [
    {
     "name": "stdout",
     "output_type": "stream",
     "text": [
      "Generated all combinations of time, latitude, and longitude: 368046 rows\n"
     ]
    },
    {
     "name": "stderr",
     "output_type": "stream",
     "text": [
      "/tmp/ipykernel_2892/67108147.py:5: SettingWithCopyWarning: \n",
      "A value is trying to be set on a copy of a slice from a DataFrame.\n",
      "Try using .loc[row_indexer,col_indexer] = value instead\n",
      "\n",
      "See the caveats in the documentation: https://pandas.pydata.org/pandas-docs/stable/user_guide/indexing.html#returning-a-view-versus-a-copy\n",
      "  result_df['Guan_AR_Label'] = result_df['Guan_AR_Label'].fillna(0)\n"
     ]
    }
   ],
   "source": [
    "print(f\"Generated all combinations of time, latitude, and longitude: {len(all_combinations_2)} rows\")\n",
    "all_combinations_2['Guan_AR_Label'] = 0\n",
    "concat_df = pd.concat([all_combinations_2, df2], ignore_index=True)\n",
    "result_df = concat_df.drop_duplicates(subset=['time', 'lat', 'lon'], keep='last')\n",
    "result_df['Guan_AR_Label'] = result_df['Guan_AR_Label'].fillna(0)"
   ]
  },
  {
   "cell_type": "code",
   "execution_count": 9,
   "metadata": {},
   "outputs": [
    {
     "data": {
      "text/html": [
       "<div>\n",
       "<style scoped>\n",
       "    .dataframe tbody tr th:only-of-type {\n",
       "        vertical-align: middle;\n",
       "    }\n",
       "\n",
       "    .dataframe tbody tr th {\n",
       "        vertical-align: top;\n",
       "    }\n",
       "\n",
       "    .dataframe thead th {\n",
       "        text-align: right;\n",
       "    }\n",
       "</style>\n",
       "<table border=\"1\" class=\"dataframe\">\n",
       "  <thead>\n",
       "    <tr style=\"text-align: right;\">\n",
       "      <th></th>\n",
       "      <th>time</th>\n",
       "      <th>lat</th>\n",
       "      <th>lon</th>\n",
       "      <th>Guan_AR_Label</th>\n",
       "      <th>Unnamed: 0</th>\n",
       "      <th>Rutz_AR_Label</th>\n",
       "    </tr>\n",
       "  </thead>\n",
       "  <tbody>\n",
       "    <tr>\n",
       "      <th>0</th>\n",
       "      <td>2016-01-01</td>\n",
       "      <td>31.5</td>\n",
       "      <td>-120.000</td>\n",
       "      <td>0</td>\n",
       "      <td>NaN</td>\n",
       "      <td>NaN</td>\n",
       "    </tr>\n",
       "    <tr>\n",
       "      <th>1</th>\n",
       "      <td>2016-01-01</td>\n",
       "      <td>31.5</td>\n",
       "      <td>-119.375</td>\n",
       "      <td>0</td>\n",
       "      <td>NaN</td>\n",
       "      <td>NaN</td>\n",
       "    </tr>\n",
       "    <tr>\n",
       "      <th>2</th>\n",
       "      <td>2016-01-01</td>\n",
       "      <td>31.5</td>\n",
       "      <td>-118.750</td>\n",
       "      <td>0</td>\n",
       "      <td>NaN</td>\n",
       "      <td>NaN</td>\n",
       "    </tr>\n",
       "    <tr>\n",
       "      <th>3</th>\n",
       "      <td>2016-01-01</td>\n",
       "      <td>31.5</td>\n",
       "      <td>-118.125</td>\n",
       "      <td>0</td>\n",
       "      <td>NaN</td>\n",
       "      <td>NaN</td>\n",
       "    </tr>\n",
       "    <tr>\n",
       "      <th>4</th>\n",
       "      <td>2016-01-01</td>\n",
       "      <td>31.5</td>\n",
       "      <td>-117.500</td>\n",
       "      <td>0</td>\n",
       "      <td>NaN</td>\n",
       "      <td>NaN</td>\n",
       "    </tr>\n",
       "    <tr>\n",
       "      <th>...</th>\n",
       "      <td>...</td>\n",
       "      <td>...</td>\n",
       "      <td>...</td>\n",
       "      <td>...</td>\n",
       "      <td>...</td>\n",
       "      <td>...</td>\n",
       "    </tr>\n",
       "    <tr>\n",
       "      <th>402691</th>\n",
       "      <td>2016-12-31</td>\n",
       "      <td>34.0</td>\n",
       "      <td>-115.000</td>\n",
       "      <td>1</td>\n",
       "      <td>34645.0</td>\n",
       "      <td>0.0</td>\n",
       "    </tr>\n",
       "    <tr>\n",
       "      <th>402692</th>\n",
       "      <td>2016-12-31</td>\n",
       "      <td>34.5</td>\n",
       "      <td>-115.000</td>\n",
       "      <td>1</td>\n",
       "      <td>34646.0</td>\n",
       "      <td>0.0</td>\n",
       "    </tr>\n",
       "    <tr>\n",
       "      <th>402693</th>\n",
       "      <td>2016-12-31</td>\n",
       "      <td>35.0</td>\n",
       "      <td>-115.000</td>\n",
       "      <td>1</td>\n",
       "      <td>34647.0</td>\n",
       "      <td>0.0</td>\n",
       "    </tr>\n",
       "    <tr>\n",
       "      <th>402694</th>\n",
       "      <td>2016-12-31</td>\n",
       "      <td>35.5</td>\n",
       "      <td>-115.625</td>\n",
       "      <td>1</td>\n",
       "      <td>34648.0</td>\n",
       "      <td>0.0</td>\n",
       "    </tr>\n",
       "    <tr>\n",
       "      <th>402695</th>\n",
       "      <td>2016-12-31</td>\n",
       "      <td>35.5</td>\n",
       "      <td>-115.000</td>\n",
       "      <td>1</td>\n",
       "      <td>34649.0</td>\n",
       "      <td>0.0</td>\n",
       "    </tr>\n",
       "  </tbody>\n",
       "</table>\n",
       "<p>368046 rows × 6 columns</p>\n",
       "</div>"
      ],
      "text/plain": [
       "             time   lat      lon  Guan_AR_Label  Unnamed: 0  Rutz_AR_Label\n",
       "0      2016-01-01  31.5 -120.000              0         NaN            NaN\n",
       "1      2016-01-01  31.5 -119.375              0         NaN            NaN\n",
       "2      2016-01-01  31.5 -118.750              0         NaN            NaN\n",
       "3      2016-01-01  31.5 -118.125              0         NaN            NaN\n",
       "4      2016-01-01  31.5 -117.500              0         NaN            NaN\n",
       "...           ...   ...      ...            ...         ...            ...\n",
       "402691 2016-12-31  34.0 -115.000              1     34645.0            0.0\n",
       "402692 2016-12-31  34.5 -115.000              1     34646.0            0.0\n",
       "402693 2016-12-31  35.0 -115.000              1     34647.0            0.0\n",
       "402694 2016-12-31  35.5 -115.625              1     34648.0            0.0\n",
       "402695 2016-12-31  35.5 -115.000              1     34649.0            0.0\n",
       "\n",
       "[368046 rows x 6 columns]"
      ]
     },
     "execution_count": 9,
     "metadata": {},
     "output_type": "execute_result"
    }
   ],
   "source": [
    "result_df"
   ]
  },
  {
   "cell_type": "code",
   "execution_count": 10,
   "metadata": {},
   "outputs": [
    {
     "data": {
      "text/plain": [
       "Guan_AR_Label\n",
       "0.0    352563\n",
       "1.0     15483\n",
       "Name: count, dtype: int64"
      ]
     },
     "execution_count": 10,
     "metadata": {},
     "output_type": "execute_result"
    }
   ],
   "source": [
    "df_final['Guan_AR_Label'].value_counts()\n"
   ]
  },
  {
   "cell_type": "code",
   "execution_count": 11,
   "metadata": {},
   "outputs": [
    {
     "data": {
      "text/plain": [
       "Guan_AR_Label\n",
       "0    335368\n",
       "1     32678\n",
       "Name: count, dtype: int64"
      ]
     },
     "execution_count": 11,
     "metadata": {},
     "output_type": "execute_result"
    }
   ],
   "source": [
    "result_df['Guan_AR_Label'].value_counts()"
   ]
  },
  {
   "cell_type": "code",
   "execution_count": 12,
   "metadata": {},
   "outputs": [
    {
     "name": "stderr",
     "output_type": "stream",
     "text": [
      "/tmp/ipykernel_2892/1729815312.py:1: SettingWithCopyWarning: \n",
      "A value is trying to be set on a copy of a slice from a DataFrame.\n",
      "Try using .loc[row_indexer,col_indexer] = value instead\n",
      "\n",
      "See the caveats in the documentation: https://pandas.pydata.org/pandas-docs/stable/user_guide/indexing.html#returning-a-view-versus-a-copy\n",
      "  df_final['Guan_AR_Label'] = result_df['Guan_AR_Label']\n"
     ]
    }
   ],
   "source": [
    "df_final['Guan_AR_Label'] = result_df['Guan_AR_Label']\n"
   ]
  },
  {
   "cell_type": "code",
   "execution_count": 13,
   "metadata": {},
   "outputs": [
    {
     "name": "stderr",
     "output_type": "stream",
     "text": [
      "/tmp/ipykernel_2892/2442227332.py:4: SettingWithCopyWarning: \n",
      "A value is trying to be set on a copy of a slice from a DataFrame.\n",
      "Try using .loc[row_indexer,col_indexer] = value instead\n",
      "\n",
      "See the caveats in the documentation: https://pandas.pydata.org/pandas-docs/stable/user_guide/indexing.html#returning-a-view-versus-a-copy\n",
      "  df_final['Guan_AR_Label'] = result_df['Guan_AR_Label']\n"
     ]
    }
   ],
   "source": [
    "df_final.reset_index(drop=True, inplace=True)\n",
    "result_df.reset_index(drop=True, inplace=True)\n",
    "\n",
    "df_final['Guan_AR_Label'] = result_df['Guan_AR_Label']\n"
   ]
  },
  {
   "cell_type": "code",
   "execution_count": 14,
   "metadata": {},
   "outputs": [
    {
     "data": {
      "text/plain": [
       "Guan_AR_Label\n",
       "0    335368\n",
       "1     32678\n",
       "Name: count, dtype: int64"
      ]
     },
     "execution_count": 14,
     "metadata": {},
     "output_type": "execute_result"
    }
   ],
   "source": [
    "result_df['Guan_AR_Label'].value_counts()"
   ]
  },
  {
   "cell_type": "code",
   "execution_count": null,
   "metadata": {},
   "outputs": [],
   "source": [
    "result_df.to_csv('"
   ]
  }
 ],
 "metadata": {
  "kernelspec": {
   "display_name": "Python 3 (ipykernel)",
   "language": "python",
   "name": "python3"
  },
  "language_info": {
   "codemirror_mode": {
    "name": "ipython",
    "version": 3
   },
   "file_extension": ".py",
   "mimetype": "text/x-python",
   "name": "python",
   "nbconvert_exporter": "python",
   "pygments_lexer": "ipython3",
   "version": "3.13.0"
  }
 },
 "nbformat": 4,
 "nbformat_minor": 4
}
