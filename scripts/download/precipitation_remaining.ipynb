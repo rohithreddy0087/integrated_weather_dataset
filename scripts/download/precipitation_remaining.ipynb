{
 "cells": [
  {
   "cell_type": "code",
   "execution_count": 10,
   "id": "6ddad681-0341-439e-aab7-c2dcebc34b15",
   "metadata": {},
   "outputs": [
    {
     "name": "stderr",
     "output_type": "stream",
     "text": [
      "\n",
      "rocessing URLs: 100%|█████████████████████████████████████████████████████| 341810/341810 [00:02<00:00, 121346.34URL/s]"
     ]
    }
   ],
   "source": [
    "import re\n",
    "from tqdm import tqdm\n",
    "\n",
    "def extract(url):\n",
    "    try:\n",
    "        year = re.search(r'\\d{4}(?=\\/\\d{3}\\/3B-HHR)', url).group()\n",
    "        month = re.search(r'(?<=3IMERG\\.)\\d{6}', url).group()[4:6]\n",
    "        day = re.search(r'(?<=3IMERG\\.)\\d{8}', url).group()[6:8]\n",
    "        start_time = re.search(r'S\\d{6}', url).group()[1:7]\n",
    "        timestamp = f\"{year}-{month}-{day}-{start_time}\"\n",
    "        return timestamp + '.nc'\n",
    "    except AttributeError:\n",
    "        return None\n",
    "\n",
    "def filter(url_file, timestamp_file):\n",
    "    with open(url_file, 'r') as url_f:\n",
    "        urls = url_f.readlines()\n",
    "\n",
    "    with open(timestamp_file, 'r') as timestamp_f:\n",
    "        timestamps = set(timestamp.strip() for timestamp in timestamp_f.readlines())\n",
    "\n",
    "    filtered_urls = []\n",
    "\n",
    "    for url in tqdm(urls, desc=\"Processing URLs\", unit=\"URL\"):\n",
    "        url = url.strip()\n",
    "        url_timestamp = extract(url)\n",
    "        if url_timestamp and url_timestamp in timestamps:\n",
    "            filtered_urls.append(url)\n",
    "\n",
    "    with open('filtered_urls.txt', 'w') as output_file:\n",
    "        for filtered_url in filtered_urls:\n",
    "            output_file.write(filtered_url + '\\n')\n",
    "\n",
    "url_file = 'subset.txt'\n",
    "timestamp_file = 'left_timestamps.txt'\n",
    "filter(url_file, timestamp_file)\n"
   ]
  },
  {
   "cell_type": "code",
   "execution_count": 13,
   "id": "3ce49574-08ab-450c-9ee7-83950904bed8",
   "metadata": {},
   "outputs": [
    {
     "name": "stdout",
     "output_type": "stream",
     "text": [
      "Results saved in left_over_timestamps.txt\n"
     ]
    }
   ],
   "source": [
    "import os\n",
    "\n",
    "def find_empty_files(folder_path, output_file):\n",
    "    try:\n",
    "        empty_files = []\n",
    "\n",
    "        for root, _, files in os.walk(folder_path):\n",
    "            for file in files:\n",
    "                file_path = os.path.join(root, file)\n",
    "                if os.path.getsize(file_path) == 0:\n",
    "                    empty_files.append(file)\n",
    "\n",
    "        with open(output_file, 'w') as f:\n",
    "            f.write(f\"Number of 0-byte files: {len(empty_files)}\\n\")\n",
    "            f.write(\"\\n\".join(empty_files))\n",
    "\n",
    "        print(f\"Results saved in {output_file}\")\n",
    "    except Exception as e:\n",
    "        print(f\"An error occurred: {e}\")\n",
    "\n",
    "folder_path = '/data/rrr/integrated_weather_dataset/data/raw/Precipitation/data'\n",
    "output_file = 'left_over_timestamps.txt'\n",
    "find_empty_files(folder_path, output_file)\n"
   ]
  },
  {
   "cell_type": "code",
   "execution_count": 14,
   "id": "82d26a42-73f0-485d-a582-8818170298e6",
   "metadata": {},
   "outputs": [
    {
     "name": "stdout",
     "output_type": "stream",
     "text": [
      "1\n"
     ]
    }
   ],
   "source": [
    "a = []\n",
    "with open(\"left_over_timestamps.txt\", \"r\") as file:\n",
    "    for line in file:\n",
    "        parts = line.split()\n",
    "        if parts: \n",
    "            a.append(parts[-1])\n",
    "            # print(parts[-1])\n",
    "print(len(a))"
   ]
  },
  {
   "cell_type": "code",
   "execution_count": 23,
   "id": "4654aa5d-cfbc-4d73-8c1b-6676b70fefee",
   "metadata": {},
   "outputs": [],
   "source": [
    "combined = pd.concat([df1, df2], ignore_index=True)\n"
   ]
  },
  {
   "cell_type": "code",
   "execution_count": 1,
   "id": "02b51cc6-7ec5-4d10-9f6e-aaaa040a2bd4",
   "metadata": {},
   "outputs": [
    {
     "ename": "NameError",
     "evalue": "name 'combined' is not defined",
     "output_type": "error",
     "traceback": [
      "\u001b[0;31m---------------------------------------------------------------------------\u001b[0m",
      "\u001b[0;31mNameError\u001b[0m                                 Traceback (most recent call last)",
      "Cell \u001b[0;32mIn[1], line 1\u001b[0m\n\u001b[0;32m----> 1\u001b[0m \u001b[43mcombined\u001b[49m\n",
      "\u001b[0;31mNameError\u001b[0m: name 'combined' is not defined"
     ]
    }
   ],
   "source": [
    "combined"
   ]
  },
  {
   "cell_type": "code",
   "execution_count": null,
   "id": "80fc62f4-fbfb-43bb-bf50-bbc5eec6235b",
   "metadata": {},
   "outputs": [],
   "source": []
  }
 ],
 "metadata": {
  "kernelspec": {
   "display_name": "Python 3 (ipykernel)",
   "language": "python",
   "name": "python3"
  },
  "language_info": {
   "codemirror_mode": {
    "name": "ipython",
    "version": 3
   },
   "file_extension": ".py",
   "mimetype": "text/x-python",
   "name": "python",
   "nbconvert_exporter": "python",
   "pygments_lexer": "ipython3",
   "version": "3.13.1"
  }
 },
 "nbformat": 4,
 "nbformat_minor": 5
}
