{
 "cells": [
  {
   "cell_type": "code",
   "execution_count": 4,
   "id": "e96b2040-18cd-416e-8fea-7bcdf0484010",
   "metadata": {},
   "outputs": [
    {
     "name": "stdout",
     "output_type": "stream",
     "text": [
      "Skipping invalid filename: ---.nc\n",
      "No missing timestamps.\n",
      "No extra timestamps.\n"
     ]
    }
   ],
   "source": [
    "import os\n",
    "from datetime import datetime, timedelta\n",
    "\n",
    "def check_missing_timestamps(folder_path):\n",
    "    filenames = os.listdir(folder_path)\n",
    "    timestamps = []\n",
    "    for filename in filenames:\n",
    "        if filename.endswith('.nc'):\n",
    "            try:\n",
    "                timestamp_str = filename.split('.')[0] \n",
    "                timestamp = datetime.strptime(timestamp_str, '%Y-%m-%d-%H%M%S')\n",
    "                timestamps.append(timestamp)\n",
    "            except ValueError:\n",
    "                print(f\"Skipping invalid filename: {filename}\")\n",
    "\n",
    "    start_time = datetime(2005, 1, 1, 0, 0, 0)\n",
    "    end_time = datetime(2024, 6, 30, 23, 0, 0)\n",
    "    expected_timestamps = []\n",
    "    current_time = start_time\n",
    "    while current_time <= end_time:\n",
    "        expected_timestamps.append(current_time)\n",
    "        current_time += timedelta(minutes=30)\n",
    "\n",
    "    timestamps_set = set(timestamps)\n",
    "    expected_set = set(expected_timestamps)\n",
    "    \n",
    "    missing = sorted(expected_set - timestamps_set)\n",
    "    extra = sorted(timestamps_set - expected_set)\n",
    "    \n",
    "    if missing:\n",
    "        print(f\"Missing timestamps ({len(missing)}):\")\n",
    "        for ts in missing[:10]:\n",
    "            print(ts)\n",
    "    else:\n",
    "        print(\"No missing timestamps.\")\n",
    "\n",
    "    if extra:\n",
    "        print(f\"\\nExtra timestamps ({len(extra)}):\")\n",
    "    else:\n",
    "        print(\"No extra timestamps.\")\n",
    "\n",
    "folder_path = \"/root/data/rrr/integrated_weather_dataset/data/raw/Precipitation/data/\"\n",
    "check_missing_timestamps(folder_path)\n"
   ]
  }
 ],
 "metadata": {
  "kernelspec": {
   "display_name": "Python 3 (ipykernel)",
   "language": "python",
   "name": "python3"
  },
  "language_info": {
   "codemirror_mode": {
    "name": "ipython",
    "version": 3
   },
   "file_extension": ".py",
   "mimetype": "text/x-python",
   "name": "python",
   "nbconvert_exporter": "python",
   "pygments_lexer": "ipython3",
   "version": "3.13.1"
  }
 },
 "nbformat": 4,
 "nbformat_minor": 5
}
