{
 "cells": [
  {
   "cell_type": "code",
   "execution_count": 1,
   "id": "5c77b068-8a87-4cb0-9e81-8cd967d80e90",
   "metadata": {},
   "outputs": [],
   "source": [
    "import os, sys\n",
    "import numpy as np\n",
    "import xarray as xr\n",
    "import pandas as pd"
   ]
  },
  {
   "cell_type": "code",
   "execution_count": 13,
   "id": "6029f628-b6a8-42fe-a324-dfb12075d8a6",
   "metadata": {},
   "outputs": [
    {
     "name": "stdout",
     "output_type": "stream",
     "text": [
      "2019.csv: 486 unique sites\n",
      "2020.csv: 475 unique sites\n",
      "2017.csv: 495 unique sites\n",
      "2012.csv: 459 unique sites\n",
      "2018.csv: 480 unique sites\n",
      "2016.csv: 495 unique sites\n",
      "2013.csv: 478 unique sites\n",
      "2011.csv: 460 unique sites\n",
      "2021.csv: 473 unique sites\n",
      "2007.csv: 445 unique sites\n",
      "2010.csv: 481 unique sites\n",
      "2023.csv: 464 unique sites\n",
      "2006.csv: 409 unique sites\n",
      "2015.csv: 496 unique sites\n",
      "2004.csv: 289 unique sites\n",
      "2014.csv: 490 unique sites\n",
      "2009.csv: 469 unique sites\n",
      "tmp_ex.csv: 491 unique sites\n",
      "2024.csv: 456 unique sites\n",
      "2008.csv: 467 unique sites\n",
      "2005.csv: 346 unique sites\n",
      "2022.csv: 476 unique sites\n"
     ]
    }
   ],
   "source": [
    "directory_path = '/root/data/rrr/integrated_weather_dataset/data/processed/Troposphere/'\n",
    "for file_name in os.listdir(directory_path):\n",
    "    if file_name.endswith('.csv'):\n",
    "        file_path = os.path.join(directory_path, file_name)\n",
    "        \n",
    "        df = pd.read_csv(file_path)\n",
    "        \n",
    "        unique_sites = len(df['Site'].unique())\n",
    "        \n",
    "        print(f\"{file_name}: {unique_sites} unique sites\")"
   ]
  },
  {
   "cell_type": "code",
   "execution_count": null,
   "id": "1f0aa6ea-cfeb-45d4-8adf-2bfdce083ecd",
   "metadata": {},
   "outputs": [],
   "source": []
  }
 ],
 "metadata": {
  "kernelspec": {
   "display_name": "Python 3 (ipykernel)",
   "language": "python",
   "name": "python3"
  },
  "language_info": {
   "codemirror_mode": {
    "name": "ipython",
    "version": 3
   },
   "file_extension": ".py",
   "mimetype": "text/x-python",
   "name": "python",
   "nbconvert_exporter": "python",
   "pygments_lexer": "ipython3",
   "version": "3.13.1"
  }
 },
 "nbformat": 4,
 "nbformat_minor": 5
}
